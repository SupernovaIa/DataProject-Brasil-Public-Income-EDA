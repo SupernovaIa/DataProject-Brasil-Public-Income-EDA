{
 "cells": [
  {
   "cell_type": "markdown",
   "metadata": {},
   "source": [
    "## Importing libraries\n",
    "\n",
    "---"
   ]
  },
  {
   "cell_type": "code",
   "execution_count": 1,
   "metadata": {},
   "outputs": [],
   "source": [
    "# Data treatment\n",
    "# -----------------------------------------------------------------------\n",
    "import pandas as pd\n",
    "import numpy as np\n",
    "\n",
    "# Path\n",
    "import sys\n",
    "sys.path.append('../')\n",
    "\n",
    "# Config\n",
    "# -----------------------------------------------------------------------\n",
    "pd.set_option('display.max_columns', None) # para poder visualizar todas las columnas de los DataFrames\n",
    "\n",
    "from src.support import cleaning_columns\n",
    "\n",
    "import warnings\n",
    "warnings.filterwarnings('ignore')"
   ]
  },
  {
   "cell_type": "markdown",
   "metadata": {},
   "source": [
    "## Data loading\n",
    "\n",
    "---"
   ]
  },
  {
   "cell_type": "code",
   "execution_count": 2,
   "metadata": {},
   "outputs": [],
   "source": [
    "path = \"../data/output/data_full.csv\"\n",
    "\n",
    "df = pd.read_csv(path)"
   ]
  },
  {
   "cell_type": "markdown",
   "metadata": {},
   "source": [
    "We check theres are no duplicates."
   ]
  },
  {
   "cell_type": "code",
   "execution_count": 3,
   "metadata": {},
   "outputs": [
    {
     "data": {
      "text/plain": [
       "False    1026214\n",
       "True          85\n",
       "Name: count, dtype: int64"
      ]
     },
     "execution_count": 3,
     "metadata": {},
     "output_type": "execute_result"
    }
   ],
   "source": [
    "df.duplicated().value_counts()"
   ]
  },
  {
   "cell_type": "markdown",
   "metadata": {},
   "source": [
    "There are 85 duplicates, it's a very small amount but we drop them."
   ]
  },
  {
   "cell_type": "code",
   "execution_count": 4,
   "metadata": {},
   "outputs": [
    {
     "data": {
      "text/plain": [
       "False    1026214\n",
       "Name: count, dtype: int64"
      ]
     },
     "execution_count": 4,
     "metadata": {},
     "output_type": "execute_result"
    }
   ],
   "source": [
    "# Drop duplicates\n",
    "df.drop_duplicates(inplace=True)\n",
    "df.duplicated().value_counts()"
   ]
  },
  {
   "cell_type": "markdown",
   "metadata": {},
   "source": [
    "## Data cleaning\n",
    "\n",
    "---"
   ]
  },
  {
   "cell_type": "markdown",
   "metadata": {},
   "source": [
    "We check important info in the dataframe to decide which columns contain relevant info"
   ]
  },
  {
   "cell_type": "code",
   "execution_count": 5,
   "metadata": {},
   "outputs": [
    {
     "name": "stdout",
     "output_type": "stream",
     "text": [
      "<class 'pandas.core.frame.DataFrame'>\n",
      "Index: 1026214 entries, 0 to 1026298\n",
      "Data columns (total 16 columns):\n",
      " #   Column                   Non-Null Count    Dtype  \n",
      "---  ------                   --------------    -----  \n",
      " 0   Superior Agency Code     995855 non-null   float64\n",
      " 1   Superior Agency Name     667027 non-null   object \n",
      " 2   Agency Code              1001097 non-null  float64\n",
      " 3   Agency Name              991328 non-null   object \n",
      " 4   Managing Unit Code       992633 non-null   float64\n",
      " 5   Managing Unit Name       1006733 non-null  object \n",
      " 6   Economic Category        1007236 non-null  object \n",
      " 7   Revenue Source           987797 non-null   object \n",
      " 8   Revenue Type             994287 non-null   object \n",
      " 9   Detailing                996878 non-null   object \n",
      " 10  Updated Budgeted Amount  974899 non-null   object \n",
      " 11  Posted Amount            999795 non-null   object \n",
      " 12  Actual Amount            986772 non-null   object \n",
      " 13  Realization Percentage   1002080 non-null  object \n",
      " 14  Posting Date             1002467 non-null  object \n",
      " 15  Fiscal Year              1026214 non-null  int64  \n",
      "dtypes: float64(3), int64(1), object(12)\n",
      "memory usage: 133.1+ MB\n"
     ]
    }
   ],
   "source": [
    "df.info()"
   ]
  },
  {
   "cell_type": "markdown",
   "metadata": {},
   "source": [
    "We see the following info:\n",
    "\n",
    "* We have 1026214 entries\n",
    "\n",
    "* `Superior Agency Code` and `Superior Agency Name` appear to refer to the same info. Code has more non-null entries so we will want to keep that info. However, since the name is more understandable for our analysis we will change the codes for their corresponding names to fill the empty names.\n",
    "\n",
    "* `Agency Code` and `Agency Name` is the same case.\n",
    "\n",
    "* `Managing Unit Code` and `Managing Unit Name` the same.\n"
   ]
  },
  {
   "cell_type": "code",
   "execution_count": 6,
   "metadata": {},
   "outputs": [],
   "source": [
    "for col in ['Superior Agency', 'Agency', 'Managing Unit']:\n",
    "    cleaning_columns(df, col)"
   ]
  },
  {
   "cell_type": "code",
   "execution_count": 8,
   "metadata": {},
   "outputs": [
    {
     "data": {
      "application/vnd.microsoft.datawrangler.viewer.v0+json": {
       "columns": [
        {
         "name": "index",
         "rawType": "int64",
         "type": "integer"
        },
        {
         "name": "Superior Agency",
         "rawType": "object",
         "type": "string"
        },
        {
         "name": "Agency",
         "rawType": "object",
         "type": "string"
        },
        {
         "name": "Managing Unit",
         "rawType": "object",
         "type": "string"
        },
        {
         "name": "Economic Category",
         "rawType": "object",
         "type": "string"
        },
        {
         "name": "Revenue Source",
         "rawType": "object",
         "type": "string"
        },
        {
         "name": "Revenue Type",
         "rawType": "object",
         "type": "string"
        },
        {
         "name": "Detailing",
         "rawType": "object",
         "type": "string"
        },
        {
         "name": "Updated Budgeted Amount",
         "rawType": "object",
         "type": "string"
        },
        {
         "name": "Posted Amount",
         "rawType": "object",
         "type": "string"
        },
        {
         "name": "Actual Amount",
         "rawType": "object",
         "type": "string"
        },
        {
         "name": "Realization Percentage",
         "rawType": "object",
         "type": "string"
        },
        {
         "name": "Posting Date",
         "rawType": "object",
         "type": "string"
        },
        {
         "name": "Fiscal Year",
         "rawType": "int64",
         "type": "integer"
        }
       ],
       "conversionMethod": "pd.DataFrame",
       "ref": "e3b8cdd2-87f1-4dc4-be49-98c75baf3b57",
       "rows": [
        [
         "825211",
         "Ministério da Educação",
         "Instituto Federal do Piauí",
         "INST.FED.DE EDUC.,CIENC.E TEC.DO PIAUI",
         "Receitas Correntes",
         "Outras Receitas Correntes",
         "Indenizações, restituições e ressarcimentos",
         "REST.DESPESAS EXERC.ANT.FIN.FTE.PRIM.-PRINC.",
         "0,00",
         "0,00",
         "44705,35",
         "0,00",
         "03/02/2020",
         "2020"
        ]
       ],
       "shape": {
        "columns": 13,
        "rows": 1
       }
      },
      "text/html": [
       "<div>\n",
       "<style scoped>\n",
       "    .dataframe tbody tr th:only-of-type {\n",
       "        vertical-align: middle;\n",
       "    }\n",
       "\n",
       "    .dataframe tbody tr th {\n",
       "        vertical-align: top;\n",
       "    }\n",
       "\n",
       "    .dataframe thead th {\n",
       "        text-align: right;\n",
       "    }\n",
       "</style>\n",
       "<table border=\"1\" class=\"dataframe\">\n",
       "  <thead>\n",
       "    <tr style=\"text-align: right;\">\n",
       "      <th></th>\n",
       "      <th>Superior Agency</th>\n",
       "      <th>Agency</th>\n",
       "      <th>Managing Unit</th>\n",
       "      <th>Economic Category</th>\n",
       "      <th>Revenue Source</th>\n",
       "      <th>Revenue Type</th>\n",
       "      <th>Detailing</th>\n",
       "      <th>Updated Budgeted Amount</th>\n",
       "      <th>Posted Amount</th>\n",
       "      <th>Actual Amount</th>\n",
       "      <th>Realization Percentage</th>\n",
       "      <th>Posting Date</th>\n",
       "      <th>Fiscal Year</th>\n",
       "    </tr>\n",
       "  </thead>\n",
       "  <tbody>\n",
       "    <tr>\n",
       "      <th>825211</th>\n",
       "      <td>Ministério da Educação</td>\n",
       "      <td>Instituto Federal do Piauí</td>\n",
       "      <td>INST.FED.DE EDUC.,CIENC.E TEC.DO PIAUI</td>\n",
       "      <td>Receitas Correntes</td>\n",
       "      <td>Outras Receitas Correntes</td>\n",
       "      <td>Indenizações, restituições e ressarcimentos</td>\n",
       "      <td>REST.DESPESAS EXERC.ANT.FIN.FTE.PRIM.-PRINC.</td>\n",
       "      <td>0,00</td>\n",
       "      <td>0,00</td>\n",
       "      <td>44705,35</td>\n",
       "      <td>0,00</td>\n",
       "      <td>03/02/2020</td>\n",
       "      <td>2020</td>\n",
       "    </tr>\n",
       "  </tbody>\n",
       "</table>\n",
       "</div>"
      ],
      "text/plain": [
       "               Superior Agency                      Agency  \\\n",
       "825211  Ministério da Educação  Instituto Federal do Piauí   \n",
       "\n",
       "                                 Managing Unit   Economic Category  \\\n",
       "825211  INST.FED.DE EDUC.,CIENC.E TEC.DO PIAUI  Receitas Correntes   \n",
       "\n",
       "                   Revenue Source  \\\n",
       "825211  Outras Receitas Correntes   \n",
       "\n",
       "                                       Revenue Type  \\\n",
       "825211  Indenizações, restituições e ressarcimentos   \n",
       "\n",
       "                                           Detailing Updated Budgeted Amount  \\\n",
       "825211  REST.DESPESAS EXERC.ANT.FIN.FTE.PRIM.-PRINC.                    0,00   \n",
       "\n",
       "       Posted Amount Actual Amount Realization Percentage Posting Date  \\\n",
       "825211          0,00      44705,35                   0,00   03/02/2020   \n",
       "\n",
       "        Fiscal Year  \n",
       "825211         2020  "
      ]
     },
     "execution_count": 8,
     "metadata": {},
     "output_type": "execute_result"
    }
   ],
   "source": [
    "df.sample()"
   ]
  },
  {
   "cell_type": "code",
   "execution_count": 13,
   "metadata": {},
   "outputs": [
    {
     "name": "stdout",
     "output_type": "stream",
     "text": [
      "<class 'pandas.core.frame.DataFrame'>\n",
      "Index: 1026214 entries, 0 to 1026298\n",
      "Data columns (total 13 columns):\n",
      " #   Column                   Non-Null Count    Dtype \n",
      "---  ------                   --------------    ----- \n",
      " 0   Superior Agency          1015669 non-null  object\n",
      " 1   Agency                   1025309 non-null  object\n",
      " 2   Managing Unit            1025600 non-null  object\n",
      " 3   Economic Category        1007236 non-null  object\n",
      " 4   Revenue Source           987797 non-null   object\n",
      " 5   Revenue Type             994287 non-null   object\n",
      " 6   Detailing                996878 non-null   object\n",
      " 7   Updated Budgeted Amount  974899 non-null   object\n",
      " 8   Posted Amount            999795 non-null   object\n",
      " 9   Actual Amount            986772 non-null   object\n",
      " 10  Realization Percentage   1002080 non-null  object\n",
      " 11  Posting Date             1002467 non-null  object\n",
      " 12  Fiscal Year              1026214 non-null  int64 \n",
      "dtypes: int64(1), object(12)\n",
      "memory usage: 141.9+ MB\n"
     ]
    }
   ],
   "source": [
    "df.info()"
   ]
  },
  {
   "cell_type": "markdown",
   "metadata": {},
   "source": [
    "---"
   ]
  },
  {
   "cell_type": "markdown",
   "metadata": {},
   "source": [
    "Now it's time to convert to their proper type the following columns:\n",
    "\n",
    "* Updated Budgeted Amount (numeric)\n",
    "\n",
    "* Posted Amount (numeric)\n",
    "\n",
    "* Actual Amount (numeric)\n",
    "\n",
    "* Realization Percentage (numeric)\n",
    "\n",
    "* Posting Date (datetime)"
   ]
  },
  {
   "cell_type": "code",
   "execution_count": 9,
   "metadata": {},
   "outputs": [],
   "source": [
    "# Conveting dates to datetime\n",
    "df['Posting Date'] = pd.to_datetime(df['Posting Date'], dayfirst=True)"
   ]
  },
  {
   "cell_type": "markdown",
   "metadata": {},
   "source": [
    "We need to convert `object`to `float` replacing commas for dots for an apropriate conversion.\n",
    "\n",
    "We should also convert 0 to NaN to handle null values properly."
   ]
  },
  {
   "cell_type": "code",
   "execution_count": 10,
   "metadata": {},
   "outputs": [],
   "source": [
    "categories = ['Updated Budgeted Amount', 'Posted Amount', 'Actual Amount', 'Realization Percentage']\n",
    "\n",
    "for cat in categories:\n",
    "    df[cat] = df[cat].str.replace(',', '.').astype(float).replace(0, np.nan)"
   ]
  },
  {
   "cell_type": "code",
   "execution_count": 11,
   "metadata": {},
   "outputs": [
    {
     "name": "stdout",
     "output_type": "stream",
     "text": [
      "<class 'pandas.core.frame.DataFrame'>\n",
      "Index: 1026214 entries, 0 to 1026298\n",
      "Data columns (total 13 columns):\n",
      " #   Column                   Non-Null Count    Dtype         \n",
      "---  ------                   --------------    -----         \n",
      " 0   Superior Agency          1015669 non-null  object        \n",
      " 1   Agency                   1025309 non-null  object        \n",
      " 2   Managing Unit            1025600 non-null  object        \n",
      " 3   Economic Category        1007236 non-null  object        \n",
      " 4   Revenue Source           987797 non-null   object        \n",
      " 5   Revenue Type             994287 non-null   object        \n",
      " 6   Detailing                996878 non-null   object        \n",
      " 7   Updated Budgeted Amount  18850 non-null    float64       \n",
      " 8   Posted Amount            7042 non-null     float64       \n",
      " 9   Actual Amount            966555 non-null   float64       \n",
      " 10  Realization Percentage   7241 non-null     float64       \n",
      " 11  Posting Date             1002467 non-null  datetime64[ns]\n",
      " 12  Fiscal Year              1026214 non-null  int64         \n",
      "dtypes: datetime64[ns](1), float64(4), int64(1), object(7)\n",
      "memory usage: 141.9+ MB\n"
     ]
    }
   ],
   "source": [
    "df.info()"
   ]
  },
  {
   "cell_type": "markdown",
   "metadata": {},
   "source": [
    "---"
   ]
  },
  {
   "cell_type": "markdown",
   "metadata": {},
   "source": [
    "We'll analyze 'Economic Category' so we should clean values"
   ]
  },
  {
   "cell_type": "code",
   "execution_count": 12,
   "metadata": {},
   "outputs": [
    {
     "data": {
      "text/plain": [
       "array(['Receitas Correntes', 'Receitas de Capital', nan,\n",
       "       'Receitas Correntes - intra-orçamentárias', 'Sem informação',\n",
       "       'Receitas de Capital - intra-orçamentárias'], dtype=object)"
      ]
     },
     "execution_count": 12,
     "metadata": {},
     "output_type": "execute_result"
    }
   ],
   "source": [
    "df['Economic Category'].unique()"
   ]
  },
  {
   "cell_type": "code",
   "execution_count": 13,
   "metadata": {},
   "outputs": [],
   "source": [
    "# Now we store these columns in a dictionary to rename the codes\n",
    "\n",
    "economic_category_dict = {\n",
    "    'Receitas Correntes': 'Current Revenues',\n",
    "    'Receitas de Capital': 'Capital Revenues',\n",
    "    'Receitas Correntes - intra-orçamentárias': 'Intra-Budgetary Current Revenues',\n",
    "    'Sem informação': 'No Information',\n",
    "    'Receitas de Capital - intra-orçamentárias': 'Intra-Budgetary Capital Revenues'\n",
    "}\n",
    "\n",
    "df['Economic Category'].replace(economic_category_dict, inplace = True)"
   ]
  },
  {
   "cell_type": "code",
   "execution_count": 14,
   "metadata": {},
   "outputs": [
    {
     "data": {
      "text/plain": [
       "array(['Current Revenues', 'Capital Revenues', nan,\n",
       "       'Intra-Budgetary Current Revenues', 'No Information',\n",
       "       'Intra-Budgetary Capital Revenues'], dtype=object)"
      ]
     },
     "execution_count": 14,
     "metadata": {},
     "output_type": "execute_result"
    }
   ],
   "source": [
    "df['Economic Category'].unique()"
   ]
  },
  {
   "cell_type": "code",
   "execution_count": 15,
   "metadata": {},
   "outputs": [],
   "source": [
    "# Now we should replace NaN with 'No Information'\n",
    "df['Economic Category'].fillna('No Information', inplace=True)"
   ]
  },
  {
   "cell_type": "code",
   "execution_count": 16,
   "metadata": {},
   "outputs": [
    {
     "data": {
      "text/plain": [
       "array(['Current Revenues', 'Capital Revenues', 'No Information',\n",
       "       'Intra-Budgetary Current Revenues',\n",
       "       'Intra-Budgetary Capital Revenues'], dtype=object)"
      ]
     },
     "execution_count": 16,
     "metadata": {},
     "output_type": "execute_result"
    }
   ],
   "source": [
    "df['Economic Category'].unique()"
   ]
  },
  {
   "cell_type": "markdown",
   "metadata": {},
   "source": [
    "---"
   ]
  },
  {
   "cell_type": "markdown",
   "metadata": {},
   "source": [
    "Now we can check the null % in the numeric variables"
   ]
  },
  {
   "cell_type": "code",
   "execution_count": 17,
   "metadata": {},
   "outputs": [
    {
     "name": "stdout",
     "output_type": "stream",
     "text": [
      "Updated Budgeted Amount: 98.16%\n",
      "Posted Amount: 99.31%\n",
      "Actual Amount: 5.81%\n",
      "Realization Percentage: 99.29%\n"
     ]
    }
   ],
   "source": [
    "for cat in categories:\n",
    "    print(f'{cat}: {round((df[(df[cat].isna())].shape[0]) / (df.shape[0]) * 100, 2)}%')"
   ]
  },
  {
   "cell_type": "markdown",
   "metadata": {},
   "source": [
    "We see we have a huge amount of null values except for `Actual Amount`. Unfortunately there's little we can do about this, so let's save this dataframe."
   ]
  },
  {
   "cell_type": "code",
   "execution_count": 18,
   "metadata": {},
   "outputs": [],
   "source": [
    "# Now we save the dataframe\n",
    "df.to_csv(\"../data/output/data_clean.csv\", index = False)"
   ]
  }
 ],
 "metadata": {
  "kernelspec": {
   "display_name": "test",
   "language": "python",
   "name": "python3"
  },
  "language_info": {
   "codemirror_mode": {
    "name": "ipython",
    "version": 3
   },
   "file_extension": ".py",
   "mimetype": "text/x-python",
   "name": "python",
   "nbconvert_exporter": "python",
   "pygments_lexer": "ipython3",
   "version": "3.12.4"
  }
 },
 "nbformat": 4,
 "nbformat_minor": 2
}
