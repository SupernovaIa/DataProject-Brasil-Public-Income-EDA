{
 "cells": [
  {
   "cell_type": "markdown",
   "metadata": {},
   "source": [
    "### Importing libraries"
   ]
  },
  {
   "cell_type": "code",
   "execution_count": 187,
   "metadata": {},
   "outputs": [],
   "source": [
    "# Importing libraries\n",
    "\n",
    "# Data treatment\n",
    "# -----------------------------------------------------------------------\n",
    "import pandas as pd\n",
    "import numpy as np\n",
    "\n",
    "# Path\n",
    "import sys\n",
    "sys.path.append('../')\n",
    "\n",
    "# Config\n",
    "# -----------------------------------------------------------------------\n",
    "pd.set_option('display.max_columns', None) # para poder visualizar todas las columnas de los DataFrames"
   ]
  },
  {
   "cell_type": "markdown",
   "metadata": {},
   "source": [
    "### Data loading"
   ]
  },
  {
   "cell_type": "code",
   "execution_count": 188,
   "metadata": {},
   "outputs": [],
   "source": [
    "path = \"../data/output/data_full.csv\"\n",
    "\n",
    "df = pd.read_csv(path, index_col= None)"
   ]
  },
  {
   "cell_type": "code",
   "execution_count": 189,
   "metadata": {},
   "outputs": [
    {
     "data": {
      "text/plain": [
       "0"
      ]
     },
     "execution_count": 189,
     "metadata": {},
     "output_type": "execute_result"
    }
   ],
   "source": [
    "# We check theres are no duplicated\n",
    "df.duplicated().sum()"
   ]
  },
  {
   "cell_type": "markdown",
   "metadata": {},
   "source": [
    "### Data cleaning"
   ]
  },
  {
   "cell_type": "markdown",
   "metadata": {},
   "source": [
    "We can remove irrelevant columns:\n",
    "\n",
    "* \"Unnamed: 0\": Does not prvide relevant info\n",
    "\n",
    "* 'Superior Agency Code': We can use directly 'Superior Agency Name'\n",
    "\n",
    "* 'Agency Code': We can use directly 'Agency Name'\n",
    "\n",
    "* 'Managing Unit Code': We can use directly 'Managing Unit Name'"
   ]
  },
  {
   "cell_type": "code",
   "execution_count": 190,
   "metadata": {},
   "outputs": [],
   "source": [
    "# Remove columns\n",
    "df.drop(columns=[\"Unnamed: 0\", \"Superior Agency Code\", \"Agency Code\", \"Managing Unit Code\"], inplace = True)"
   ]
  },
  {
   "cell_type": "code",
   "execution_count": 191,
   "metadata": {},
   "outputs": [
    {
     "name": "stdout",
     "output_type": "stream",
     "text": [
      "<class 'pandas.core.frame.DataFrame'>\n",
      "RangeIndex: 1026299 entries, 0 to 1026298\n",
      "Data columns (total 13 columns):\n",
      " #   Column                   Non-Null Count    Dtype \n",
      "---  ------                   --------------    ----- \n",
      " 0   Superior Agency Name     667093 non-null   object\n",
      " 1   Agency Name              991412 non-null   object\n",
      " 2   Managing Unit Name       1006818 non-null  object\n",
      " 3   Economic Category        1007321 non-null  object\n",
      " 4   Revenue Source           987881 non-null   object\n",
      " 5   Revenue Type             994372 non-null   object\n",
      " 6   Detailing                996962 non-null   object\n",
      " 7   Updated Budgeted Amount  974984 non-null   object\n",
      " 8   Posted Amount            999880 non-null   object\n",
      " 9   Actual Amount            986834 non-null   object\n",
      " 10  Realization Percentage   1002165 non-null  object\n",
      " 11  Posting Date             1002468 non-null  object\n",
      " 12  Fiscal Year              1026299 non-null  int64 \n",
      "dtypes: int64(1), object(12)\n",
      "memory usage: 101.8+ MB\n"
     ]
    }
   ],
   "source": [
    "df.info()"
   ]
  },
  {
   "cell_type": "markdown",
   "metadata": {},
   "source": [
    "Now it's time to convert to their proper type the following columns:\n",
    "\n",
    "* Updated Budgeted Amount (numeric)\n",
    "\n",
    "* Posted Amount (numeric)\n",
    "\n",
    "* Actual Amount (numeric)\n",
    "\n",
    "* Realization Percentage (numeric)\n",
    "\n",
    "* Posting Date (datetime)"
   ]
  },
  {
   "cell_type": "code",
   "execution_count": 192,
   "metadata": {},
   "outputs": [],
   "source": [
    "categories = ['Updated Budgeted Amount', 'Posted Amount', 'Actual Amount', 'Realization Percentage', 'Posting Date']\n",
    "\n",
    "for cat in categories:\n",
    "\n",
    "    if cat == 'Posting Date':\n",
    "        df[cat] = pd.to_datetime(df[cat], dayfirst=True)\n",
    "\n",
    "    else:\n",
    "        df[cat] = df[cat].str.replace(',', '.').astype(float).replace(0, np.nan)"
   ]
  },
  {
   "cell_type": "markdown",
   "metadata": {},
   "source": [
    "We need to address some inconveniences such as:\n",
    "\n",
    "* Replacing commas with dots in '0,00' for proper float conversion\n",
    "\n",
    "* Replacing nan with 0 for effective data cleaning"
   ]
  },
  {
   "cell_type": "code",
   "execution_count": 193,
   "metadata": {},
   "outputs": [
    {
     "name": "stdout",
     "output_type": "stream",
     "text": [
      "<class 'pandas.core.frame.DataFrame'>\n",
      "RangeIndex: 1026299 entries, 0 to 1026298\n",
      "Data columns (total 13 columns):\n",
      " #   Column                   Non-Null Count    Dtype         \n",
      "---  ------                   --------------    -----         \n",
      " 0   Superior Agency Name     667093 non-null   object        \n",
      " 1   Agency Name              991412 non-null   object        \n",
      " 2   Managing Unit Name       1006818 non-null  object        \n",
      " 3   Economic Category        1007321 non-null  object        \n",
      " 4   Revenue Source           987881 non-null   object        \n",
      " 5   Revenue Type             994372 non-null   object        \n",
      " 6   Detailing                996962 non-null   object        \n",
      " 7   Updated Budgeted Amount  18850 non-null    float64       \n",
      " 8   Posted Amount            7042 non-null     float64       \n",
      " 9   Actual Amount            966613 non-null   float64       \n",
      " 10  Realization Percentage   7241 non-null     float64       \n",
      " 11  Posting Date             1002468 non-null  datetime64[ns]\n",
      " 12  Fiscal Year              1026299 non-null  int64         \n",
      "dtypes: datetime64[ns](1), float64(4), int64(1), object(7)\n",
      "memory usage: 101.8+ MB\n"
     ]
    }
   ],
   "source": [
    "df.info()"
   ]
  },
  {
   "cell_type": "code",
   "execution_count": 194,
   "metadata": {},
   "outputs": [
    {
     "data": {
      "text/plain": [
       "0.993138451854674"
      ]
     },
     "execution_count": 194,
     "metadata": {},
     "output_type": "execute_result"
    }
   ],
   "source": [
    "(df[(df['Posted Amount'].isnull()) | (df['Posted Amount'] == 0)].shape[0]) / (df.shape[0])"
   ]
  },
  {
   "cell_type": "code",
   "execution_count": 195,
   "metadata": {},
   "outputs": [
    {
     "data": {
      "text/plain": [
       "Posted Amount\n",
       "-1.000000e-02    31\n",
       " 1.000000e-02    24\n",
       " 1.100000e-01    10\n",
       " 2.000000e-02     8\n",
       " 4.920760e+03     7\n",
       "                 ..\n",
       "-4.960937e+06     1\n",
       " 7.417899e+05     1\n",
       "-3.440536e+08     1\n",
       "-7.440405e+08     1\n",
       " 4.151808e+04     1\n",
       "Name: count, Length: 6632, dtype: int64"
      ]
     },
     "execution_count": 195,
     "metadata": {},
     "output_type": "execute_result"
    }
   ],
   "source": [
    "df['Posted Amount'].value_counts()"
   ]
  },
  {
   "cell_type": "code",
   "execution_count": 196,
   "metadata": {},
   "outputs": [],
   "source": [
    "df_sin_nulos = df[df.notnull().all(axis=1)]"
   ]
  },
  {
   "cell_type": "code",
   "execution_count": 197,
   "metadata": {},
   "outputs": [
    {
     "data": {
      "text/plain": [
       "Posted Amount\n",
       "159089.35    2\n",
       "8559.31      1\n",
       "Name: count, dtype: int64"
      ]
     },
     "execution_count": 197,
     "metadata": {},
     "output_type": "execute_result"
    }
   ],
   "source": [
    "df_sin_nulos['Posted Amount'].value_counts()"
   ]
  },
  {
   "cell_type": "code",
   "execution_count": 198,
   "metadata": {},
   "outputs": [
    {
     "data": {
      "text/plain": [
       "0"
      ]
     },
     "execution_count": 198,
     "metadata": {},
     "output_type": "execute_result"
    }
   ],
   "source": [
    "df[df['Posted Amount'] == 0].shape[0]"
   ]
  },
  {
   "cell_type": "code",
   "execution_count": null,
   "metadata": {},
   "outputs": [],
   "source": []
  }
 ],
 "metadata": {
  "kernelspec": {
   "display_name": "test",
   "language": "python",
   "name": "python3"
  },
  "language_info": {
   "codemirror_mode": {
    "name": "ipython",
    "version": 3
   },
   "file_extension": ".py",
   "mimetype": "text/x-python",
   "name": "python",
   "nbconvert_exporter": "python",
   "pygments_lexer": "ipython3",
   "version": "3.12.4"
  }
 },
 "nbformat": 4,
 "nbformat_minor": 2
}
