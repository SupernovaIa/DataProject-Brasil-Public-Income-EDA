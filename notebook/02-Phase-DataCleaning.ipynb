{
 "cells": [
  {
   "cell_type": "markdown",
   "metadata": {},
   "source": [
    "### Importing libraries"
   ]
  },
  {
   "cell_type": "code",
   "execution_count": 1,
   "metadata": {},
   "outputs": [],
   "source": [
    "# Importing libraries\n",
    "\n",
    "# Data treatment\n",
    "# -----------------------------------------------------------------------\n",
    "import pandas as pd\n",
    "import numpy as np\n",
    "\n",
    "# Path\n",
    "import sys\n",
    "sys.path.append('../')\n",
    "\n",
    "# Config\n",
    "# -----------------------------------------------------------------------\n",
    "pd.set_option('display.max_columns', None) # para poder visualizar todas las columnas de los DataFrames"
   ]
  },
  {
   "cell_type": "markdown",
   "metadata": {},
   "source": [
    "### Data loading"
   ]
  },
  {
   "cell_type": "code",
   "execution_count": 2,
   "metadata": {},
   "outputs": [],
   "source": [
    "path = \"../data/output/data_full.csv\"\n",
    "\n",
    "df = pd.read_csv(path)"
   ]
  },
  {
   "cell_type": "code",
   "execution_count": null,
   "metadata": {},
   "outputs": [],
   "source": [
    "# We check theres are no duplicated\n",
    "df.duplicated().value_counts()"
   ]
  },
  {
   "cell_type": "markdown",
   "metadata": {},
   "source": [
    "### Data cleaning"
   ]
  },
  {
   "cell_type": "code",
   "execution_count": null,
   "metadata": {},
   "outputs": [],
   "source": [
    "# We check important info in the dataframe to decide which columns contain relevant info\n",
    "df.info()"
   ]
  },
  {
   "cell_type": "markdown",
   "metadata": {},
   "source": [
    "We see the following info:\n",
    "\n",
    "* We have 1026299 entries\n",
    "\n",
    "* Unnamed: 0 is irrelevant since it's an index, so we can remove it.\n",
    "\n",
    "* 'Superior Agency Code' and 'Superior Agency Name' appear to refer to the same info. Code has more non-null entries so we will want to keep that info. However, since the name is more understandable for our analysis we will change the codes for their corresponding names to fill the empty names.\n",
    "\n",
    "* 'Agency Code' and 'Agency Name' is the same case as the previous one.\n"
   ]
  },
  {
   "cell_type": "markdown",
   "metadata": {},
   "source": [
    "#### Superior Agency"
   ]
  },
  {
   "cell_type": "code",
   "execution_count": null,
   "metadata": {},
   "outputs": [],
   "source": [
    "# We build a dataframe that gives us the code for every name. \n",
    "# We have to group by Name, convert to a dataframe and keep the Name and Code\n",
    "df_superior_agency = df[['Superior Agency Code', 'Superior Agency Name']].groupby('Superior Agency Name').value_counts().reset_index()[['Superior Agency Name', 'Superior Agency Code']]\n",
    "\n",
    "df_superior_agency.head()"
   ]
  },
  {
   "cell_type": "code",
   "execution_count": null,
   "metadata": {},
   "outputs": [],
   "source": [
    "# Now we store these columns in a dictionary to rename the codes\n",
    "superior_agency_dict = dict(zip(df_superior_agency['Superior Agency Code'], df_superior_agency['Superior Agency Name']))\n",
    "\n",
    "superior_agency_dict"
   ]
  },
  {
   "cell_type": "markdown",
   "metadata": {},
   "source": [
    "We perform the replacement"
   ]
  },
  {
   "cell_type": "code",
   "execution_count": 9,
   "metadata": {},
   "outputs": [],
   "source": [
    "# Replacement\n",
    "df['Superior Agency Code'].replace(superior_agency_dict, inplace = True)\n",
    "\n",
    "# But we see that we still have some names that had no code\n",
    "df[df['Superior Agency Code'].isna() & df['Superior Agency Name'].notna()][['Superior Agency Code', 'Superior Agency Name']].head()\n",
    "\n",
    "# For those values we reassign the name (only for NaN code and not NaN name)\n",
    "df.loc[df['Superior Agency Code'].isna() & df['Superior Agency Name'].notna(), 'Superior Agency Code'] = df['Superior Agency Name']"
   ]
  },
  {
   "cell_type": "code",
   "execution_count": null,
   "metadata": {},
   "outputs": [],
   "source": [
    "# Now Superior Agency Code is clean and we can rename it to just 'Superior Agency' and get rid of Superior Agency Name\n",
    "df.info()"
   ]
  },
  {
   "cell_type": "code",
   "execution_count": 12,
   "metadata": {},
   "outputs": [],
   "source": [
    "df.rename(columns={'Superior Agency Code': 'Superior Agency'}, inplace=True)\n",
    "df.drop(columns=[\"Superior Agency Name\"], inplace = True)"
   ]
  },
  {
   "cell_type": "code",
   "execution_count": null,
   "metadata": {},
   "outputs": [],
   "source": [
    "df.sample()"
   ]
  },
  {
   "cell_type": "markdown",
   "metadata": {},
   "source": [
    "#### Agency"
   ]
  },
  {
   "cell_type": "markdown",
   "metadata": {},
   "source": [
    "We can do the same with Agency"
   ]
  },
  {
   "cell_type": "code",
   "execution_count": null,
   "metadata": {},
   "outputs": [],
   "source": [
    "# We build a dataframe that gives us the code for every name. \n",
    "# We have to group by Name, convert to a dataframe and keep the Name and Code\n",
    "df_agency = df[['Agency Code', 'Agency Name']].groupby('Agency Name').value_counts().reset_index()[['Agency Name', 'Agency Code']]\n",
    "\n",
    "df_agency.head()"
   ]
  },
  {
   "cell_type": "code",
   "execution_count": null,
   "metadata": {},
   "outputs": [],
   "source": [
    "# Now we store these columns in a dictionary to rename the codes\n",
    "agency_dict = dict(zip(df_agency['Agency Code'], df_agency['Agency Name']))\n",
    "\n",
    "agency_dict"
   ]
  },
  {
   "cell_type": "code",
   "execution_count": null,
   "metadata": {},
   "outputs": [],
   "source": [
    "# Replacement\n",
    "df['Agency Code'].replace(agency_dict, inplace = True)\n",
    "\n",
    "# But we see that we still have some names that had no code\n",
    "df[df['Agency Code'].isna() & df['Agency Name'].notna()][['Agency Code', 'Agency Name']].head()\n",
    "\n",
    "# For those values we reassign the name (only for NaN code and not NaN name)\n",
    "df.loc[df['Agency Code'].isna() & df['Agency Name'].notna(), 'Agency Code'] = df['Agency Name']"
   ]
  },
  {
   "cell_type": "code",
   "execution_count": null,
   "metadata": {},
   "outputs": [],
   "source": [
    "# Now Agency Code is clean and we can rename it to just 'Agency' and get rid of Agency Name\n",
    "df.info()"
   ]
  },
  {
   "cell_type": "code",
   "execution_count": 19,
   "metadata": {},
   "outputs": [],
   "source": [
    "df.rename(columns={'Agency Code': 'Agency'}, inplace=True)\n",
    "df.drop(columns=[\"Agency Name\"], inplace = True)"
   ]
  },
  {
   "cell_type": "code",
   "execution_count": null,
   "metadata": {},
   "outputs": [],
   "source": [
    "df.sample()"
   ]
  },
  {
   "cell_type": "markdown",
   "metadata": {},
   "source": [
    "#### Managing unit"
   ]
  },
  {
   "cell_type": "markdown",
   "metadata": {},
   "source": [
    "We can do the same with Managing Unit"
   ]
  },
  {
   "cell_type": "code",
   "execution_count": null,
   "metadata": {},
   "outputs": [],
   "source": [
    "# We build a dataframe that gives us the code for every name. \n",
    "# We have to group by Name, convert to a dataframe and keep the Name and Code\n",
    "df_MU = df[['Managing Unit Code', 'Managing Unit Name']].groupby('Managing Unit Name').value_counts().reset_index()[['Managing Unit Name', 'Managing Unit Code']]\n",
    "\n",
    "df_MU.head()"
   ]
  },
  {
   "cell_type": "code",
   "execution_count": null,
   "metadata": {},
   "outputs": [],
   "source": [
    "# Now we store these columns in a dictionary to rename the codes\n",
    "mu_dict = dict(zip(df_MU['Managing Unit Code'], df_MU['Managing Unit Name']))\n",
    "\n",
    "mu_dict"
   ]
  },
  {
   "cell_type": "code",
   "execution_count": null,
   "metadata": {},
   "outputs": [],
   "source": [
    "# Replacement\n",
    "df['Managing Unit Code'].replace(mu_dict, inplace = True)\n",
    "\n",
    "# But we see that we still have some names that had no code\n",
    "df[df['Managing Unit Code'].isna() & df['Managing Unit Name'].notna()][['Managing Unit Code', 'Managing Unit Name']].head()\n",
    "\n",
    "# For those values we reassign the name (only for NaN code and not NaN name)\n",
    "df.loc[df['Managing Unit Code'].isna() & df['Managing Unit Name'].notna(), 'Managing Unit Code'] = df['Managing Unit Name']"
   ]
  },
  {
   "cell_type": "code",
   "execution_count": null,
   "metadata": {},
   "outputs": [],
   "source": [
    "# Now Managing Unit Code is clean and we can rename it to just 'MAnaging Unit' and get rid of Managing Unit Name\n",
    "df.info()"
   ]
  },
  {
   "cell_type": "code",
   "execution_count": 26,
   "metadata": {},
   "outputs": [],
   "source": [
    "df.rename(columns={'Managing Code': 'Managing Unit'}, inplace=True)\n",
    "df.drop(columns=[\"Managing Unit Name\"], inplace = True)"
   ]
  },
  {
   "cell_type": "code",
   "execution_count": null,
   "metadata": {},
   "outputs": [],
   "source": [
    "df.sample()"
   ]
  },
  {
   "cell_type": "code",
   "execution_count": null,
   "metadata": {},
   "outputs": [],
   "source": [
    "df.info()"
   ]
  },
  {
   "cell_type": "markdown",
   "metadata": {},
   "source": [
    "---"
   ]
  },
  {
   "cell_type": "markdown",
   "metadata": {},
   "source": [
    "Now it's time to convert to their proper type the following columns:\n",
    "\n",
    "* Updated Budgeted Amount (numeric)\n",
    "\n",
    "* Posted Amount (numeric)\n",
    "\n",
    "* Actual Amount (numeric)\n",
    "\n",
    "* Realization Percentage (numeric)\n",
    "\n",
    "* Posting Date (datetime)"
   ]
  },
  {
   "cell_type": "code",
   "execution_count": 29,
   "metadata": {},
   "outputs": [],
   "source": [
    "categories = ['Updated Budgeted Amount', 'Posted Amount', 'Actual Amount', 'Realization Percentage', 'Posting Date']\n",
    "\n",
    "for cat in categories:\n",
    "\n",
    "    if cat == 'Posting Date':\n",
    "        df[cat] = pd.to_datetime(df[cat], dayfirst=True)\n",
    "\n",
    "    else:\n",
    "        df[cat] = df[cat].str.replace(',', '.').astype(float).replace(0, np.nan)"
   ]
  },
  {
   "cell_type": "markdown",
   "metadata": {},
   "source": [
    "We need to address some inconveniences such as:\n",
    "\n",
    "* Replacing commas with dots in '0,00' for proper float conversion\n",
    "\n",
    "* Replacing nan with 0 for effective data cleaning"
   ]
  },
  {
   "cell_type": "code",
   "execution_count": null,
   "metadata": {},
   "outputs": [],
   "source": [
    "df.info()"
   ]
  },
  {
   "cell_type": "code",
   "execution_count": null,
   "metadata": {},
   "outputs": [],
   "source": [
    "df['Updated Budgeted Amount'].isna().value_counts()"
   ]
  },
  {
   "cell_type": "code",
   "execution_count": null,
   "metadata": {},
   "outputs": [],
   "source": [
    "for cat in categories:\n",
    "\n",
    "    if cat == 'Posting Date':\n",
    "        # This is not numerical\n",
    "        continue\n",
    "\n",
    "    print(f'{cat}: {round((df[(df[cat].isna())].shape[0]) / (df.shape[0]) * 100, 2)}%')"
   ]
  },
  {
   "cell_type": "code",
   "execution_count": 56,
   "metadata": {},
   "outputs": [],
   "source": [
    "# Now we save the dataframe\n",
    "df.to_csv(\"../data/output/data_clean.csv\", index = False)"
   ]
  }
 ],
 "metadata": {
  "kernelspec": {
   "display_name": "test",
   "language": "python",
   "name": "python3"
  },
  "language_info": {
   "codemirror_mode": {
    "name": "ipython",
    "version": 3
   },
   "file_extension": ".py",
   "mimetype": "text/x-python",
   "name": "python",
   "nbconvert_exporter": "python",
   "pygments_lexer": "ipython3",
   "version": "3.12.4"
  }
 },
 "nbformat": 4,
 "nbformat_minor": 2
}
