{
 "cells": [
  {
   "cell_type": "markdown",
   "metadata": {},
   "source": [
    "## Importing libraries\n",
    "\n",
    "---"
   ]
  },
  {
   "cell_type": "code",
   "execution_count": 18,
   "metadata": {},
   "outputs": [],
   "source": [
    "# Importing libraries\n",
    "\n",
    "# Data treatment\n",
    "# -----------------------------------------------------------------------\n",
    "import pandas as pd\n",
    "import numpy as np\n",
    "\n",
    "# Path\n",
    "import sys\n",
    "sys.path.append('../')\n",
    "\n",
    "# Config\n",
    "# -----------------------------------------------------------------------\n",
    "pd.set_option('display.max_columns', None) # para poder visualizar todas las columnas de los DataFrames\n",
    "\n",
    "from src.support import cleaning_columns\n",
    "\n",
    "import warnings\n",
    "warnings.filterwarnings('ignore')"
   ]
  },
  {
   "cell_type": "markdown",
   "metadata": {},
   "source": [
    "## Data loading\n",
    "\n",
    "---"
   ]
  },
  {
   "cell_type": "code",
   "execution_count": 19,
   "metadata": {},
   "outputs": [],
   "source": [
    "path = \"../data/output/data_full.csv\"\n",
    "\n",
    "df = pd.read_csv(path)"
   ]
  },
  {
   "cell_type": "markdown",
   "metadata": {},
   "source": [
    "We check theres are no duplicates."
   ]
  },
  {
   "cell_type": "code",
   "execution_count": 20,
   "metadata": {},
   "outputs": [
    {
     "data": {
      "text/plain": [
       "False    1026214\n",
       "True          85\n",
       "Name: count, dtype: int64"
      ]
     },
     "execution_count": 20,
     "metadata": {},
     "output_type": "execute_result"
    }
   ],
   "source": [
    "df.duplicated().value_counts()"
   ]
  },
  {
   "cell_type": "markdown",
   "metadata": {},
   "source": [
    "There are 85 duplicates, it's a very small amount but we drop them."
   ]
  },
  {
   "cell_type": "code",
   "execution_count": 21,
   "metadata": {},
   "outputs": [
    {
     "data": {
      "text/plain": [
       "False    1026214\n",
       "Name: count, dtype: int64"
      ]
     },
     "execution_count": 21,
     "metadata": {},
     "output_type": "execute_result"
    }
   ],
   "source": [
    "# Drop duplicates\n",
    "df.drop_duplicates(inplace=True)\n",
    "df.duplicated().value_counts()"
   ]
  },
  {
   "cell_type": "markdown",
   "metadata": {},
   "source": [
    "## Data cleaning\n",
    "\n",
    "---"
   ]
  },
  {
   "cell_type": "markdown",
   "metadata": {},
   "source": [
    "We check important info in the dataframe to decide which columns contain relevant info"
   ]
  },
  {
   "cell_type": "code",
   "execution_count": 22,
   "metadata": {},
   "outputs": [
    {
     "name": "stdout",
     "output_type": "stream",
     "text": [
      "<class 'pandas.core.frame.DataFrame'>\n",
      "Index: 1026214 entries, 0 to 1026298\n",
      "Data columns (total 16 columns):\n",
      " #   Column                   Non-Null Count    Dtype  \n",
      "---  ------                   --------------    -----  \n",
      " 0   Superior Agency Code     995855 non-null   float64\n",
      " 1   Superior Agency Name     667027 non-null   object \n",
      " 2   Agency Code              1001097 non-null  float64\n",
      " 3   Agency Name              991328 non-null   object \n",
      " 4   Managing Unit Code       992633 non-null   float64\n",
      " 5   Managing Unit Name       1006733 non-null  object \n",
      " 6   Economic Category        1007236 non-null  object \n",
      " 7   Revenue Source           987797 non-null   object \n",
      " 8   Revenue Type             994287 non-null   object \n",
      " 9   Detailing                996878 non-null   object \n",
      " 10  Updated Budgeted Amount  974899 non-null   object \n",
      " 11  Posted Amount            999795 non-null   object \n",
      " 12  Actual Amount            986772 non-null   object \n",
      " 13  Realization Percentage   1002080 non-null  object \n",
      " 14  Posting Date             1002467 non-null  object \n",
      " 15  Fiscal Year              1026214 non-null  int64  \n",
      "dtypes: float64(3), int64(1), object(12)\n",
      "memory usage: 133.1+ MB\n"
     ]
    }
   ],
   "source": [
    "df.info()"
   ]
  },
  {
   "cell_type": "markdown",
   "metadata": {},
   "source": [
    "We see the following info:\n",
    "\n",
    "* We have 1026214 entries\n",
    "\n",
    "* `Superior Agency Code` and `Superior Agency Name` appear to refer to the same info. Code has more non-null entries so we will want to keep that info. However, since the name is more understandable for our analysis we will change the codes for their corresponding names to fill the empty names.\n",
    "\n",
    "* `Agency Code` and `Agency Name` is the same case.\n",
    "\n",
    "* `Managing Unit Code` and `Managing Unit Name` the same.\n"
   ]
  },
  {
   "cell_type": "markdown",
   "metadata": {},
   "source": [
    "#### Superior Agency"
   ]
  },
  {
   "cell_type": "code",
   "execution_count": 23,
   "metadata": {},
   "outputs": [],
   "source": [
    "df = cleaning_columns(df, 'Superior Agency')\n",
    "df = cleaning_columns(df, 'Agency')\n",
    "df = cleaning_columns(df, 'Managing Unit')"
   ]
  },
  {
   "cell_type": "code",
   "execution_count": 24,
   "metadata": {},
   "outputs": [
    {
     "data": {
      "text/html": [
       "<div>\n",
       "<style scoped>\n",
       "    .dataframe tbody tr th:only-of-type {\n",
       "        vertical-align: middle;\n",
       "    }\n",
       "\n",
       "    .dataframe tbody tr th {\n",
       "        vertical-align: top;\n",
       "    }\n",
       "\n",
       "    .dataframe thead th {\n",
       "        text-align: right;\n",
       "    }\n",
       "</style>\n",
       "<table border=\"1\" class=\"dataframe\">\n",
       "  <thead>\n",
       "    <tr style=\"text-align: right;\">\n",
       "      <th></th>\n",
       "      <th>Superior Agency</th>\n",
       "      <th>Agency</th>\n",
       "      <th>Managing Unit</th>\n",
       "      <th>Economic Category</th>\n",
       "      <th>Revenue Source</th>\n",
       "      <th>Revenue Type</th>\n",
       "      <th>Detailing</th>\n",
       "      <th>Updated Budgeted Amount</th>\n",
       "      <th>Posted Amount</th>\n",
       "      <th>Actual Amount</th>\n",
       "      <th>Realization Percentage</th>\n",
       "      <th>Posting Date</th>\n",
       "      <th>Fiscal Year</th>\n",
       "    </tr>\n",
       "  </thead>\n",
       "  <tbody>\n",
       "    <tr>\n",
       "      <th>386210</th>\n",
       "      <td>Ministério do Desenvolvimento Regional</td>\n",
       "      <td>Departamento Nacional de Obras Contra as Secas</td>\n",
       "      <td>DEPARTAMENTO NAC. DE OBRAS CONTRA AS SECAS/UO</td>\n",
       "      <td>Receitas Correntes</td>\n",
       "      <td>Receita Patrimonial</td>\n",
       "      <td>Exploração do patrimônio imobiliário do Estad</td>\n",
       "      <td>ALUGUEIS E ARRENDAMENTOS-PRINCIPAL</td>\n",
       "      <td>0,00</td>\n",
       "      <td>0,00</td>\n",
       "      <td>3484,32</td>\n",
       "      <td>0,00</td>\n",
       "      <td>21/03/2017</td>\n",
       "      <td>2017</td>\n",
       "    </tr>\n",
       "  </tbody>\n",
       "</table>\n",
       "</div>"
      ],
      "text/plain": [
       "                               Superior Agency  \\\n",
       "386210  Ministério do Desenvolvimento Regional   \n",
       "\n",
       "                                                Agency  \\\n",
       "386210  Departamento Nacional de Obras Contra as Secas   \n",
       "\n",
       "                                        Managing Unit   Economic Category  \\\n",
       "386210  DEPARTAMENTO NAC. DE OBRAS CONTRA AS SECAS/UO  Receitas Correntes   \n",
       "\n",
       "             Revenue Source                                   Revenue Type  \\\n",
       "386210  Receita Patrimonial  Exploração do patrimônio imobiliário do Estad   \n",
       "\n",
       "                                 Detailing Updated Budgeted Amount  \\\n",
       "386210  ALUGUEIS E ARRENDAMENTOS-PRINCIPAL                    0,00   \n",
       "\n",
       "       Posted Amount Actual Amount Realization Percentage Posting Date  \\\n",
       "386210          0,00       3484,32                   0,00   21/03/2017   \n",
       "\n",
       "        Fiscal Year  \n",
       "386210         2017  "
      ]
     },
     "execution_count": 24,
     "metadata": {},
     "output_type": "execute_result"
    }
   ],
   "source": [
    "df.sample()"
   ]
  },
  {
   "cell_type": "code",
   "execution_count": 25,
   "metadata": {},
   "outputs": [
    {
     "name": "stdout",
     "output_type": "stream",
     "text": [
      "<class 'pandas.core.frame.DataFrame'>\n",
      "Index: 1026214 entries, 0 to 1026298\n",
      "Data columns (total 13 columns):\n",
      " #   Column                   Non-Null Count    Dtype \n",
      "---  ------                   --------------    ----- \n",
      " 0   Superior Agency          1015669 non-null  object\n",
      " 1   Agency                   1025309 non-null  object\n",
      " 2   Managing Unit            1025600 non-null  object\n",
      " 3   Economic Category        1007236 non-null  object\n",
      " 4   Revenue Source           987797 non-null   object\n",
      " 5   Revenue Type             994287 non-null   object\n",
      " 6   Detailing                996878 non-null   object\n",
      " 7   Updated Budgeted Amount  974899 non-null   object\n",
      " 8   Posted Amount            999795 non-null   object\n",
      " 9   Actual Amount            986772 non-null   object\n",
      " 10  Realization Percentage   1002080 non-null  object\n",
      " 11  Posting Date             1002467 non-null  object\n",
      " 12  Fiscal Year              1026214 non-null  int64 \n",
      "dtypes: int64(1), object(12)\n",
      "memory usage: 141.9+ MB\n"
     ]
    }
   ],
   "source": [
    "df.info()"
   ]
  },
  {
   "cell_type": "markdown",
   "metadata": {},
   "source": [
    "---"
   ]
  },
  {
   "cell_type": "markdown",
   "metadata": {},
   "source": [
    "Now it's time to convert to their proper type the following columns:\n",
    "\n",
    "* Updated Budgeted Amount (numeric)\n",
    "\n",
    "* Posted Amount (numeric)\n",
    "\n",
    "* Actual Amount (numeric)\n",
    "\n",
    "* Realization Percentage (numeric)\n",
    "\n",
    "* Posting Date (datetime)"
   ]
  },
  {
   "cell_type": "code",
   "execution_count": 26,
   "metadata": {},
   "outputs": [],
   "source": [
    "# Conveting dates to datetime\n",
    "df['Posting Date'] = pd.to_datetime(df['Posting Date'], dayfirst=True)"
   ]
  },
  {
   "cell_type": "markdown",
   "metadata": {},
   "source": [
    "We need to convert `object`to `float` replacing commas for dots for an apropriate conversion.\n",
    "\n",
    "We should also convert 0 to NaN to handle null values properly."
   ]
  },
  {
   "cell_type": "code",
   "execution_count": 27,
   "metadata": {},
   "outputs": [],
   "source": [
    "categories = ['Updated Budgeted Amount', 'Posted Amount', 'Actual Amount', 'Realization Percentage']\n",
    "\n",
    "for cat in categories:\n",
    "    df[cat] = df[cat].str.replace(',', '.').astype(float).replace(0, np.nan)"
   ]
  },
  {
   "cell_type": "code",
   "execution_count": 28,
   "metadata": {},
   "outputs": [
    {
     "name": "stdout",
     "output_type": "stream",
     "text": [
      "<class 'pandas.core.frame.DataFrame'>\n",
      "Index: 1026214 entries, 0 to 1026298\n",
      "Data columns (total 13 columns):\n",
      " #   Column                   Non-Null Count    Dtype         \n",
      "---  ------                   --------------    -----         \n",
      " 0   Superior Agency          1015669 non-null  object        \n",
      " 1   Agency                   1025309 non-null  object        \n",
      " 2   Managing Unit            1025600 non-null  object        \n",
      " 3   Economic Category        1007236 non-null  object        \n",
      " 4   Revenue Source           987797 non-null   object        \n",
      " 5   Revenue Type             994287 non-null   object        \n",
      " 6   Detailing                996878 non-null   object        \n",
      " 7   Updated Budgeted Amount  18850 non-null    float64       \n",
      " 8   Posted Amount            7042 non-null     float64       \n",
      " 9   Actual Amount            966555 non-null   float64       \n",
      " 10  Realization Percentage   7241 non-null     float64       \n",
      " 11  Posting Date             1002467 non-null  datetime64[ns]\n",
      " 12  Fiscal Year              1026214 non-null  int64         \n",
      "dtypes: datetime64[ns](1), float64(4), int64(1), object(7)\n",
      "memory usage: 141.9+ MB\n"
     ]
    }
   ],
   "source": [
    "df.info()"
   ]
  },
  {
   "cell_type": "markdown",
   "metadata": {},
   "source": [
    "---"
   ]
  },
  {
   "cell_type": "markdown",
   "metadata": {},
   "source": [
    "We'll analyze 'Economic Category' so we should clean values"
   ]
  },
  {
   "cell_type": "code",
   "execution_count": 29,
   "metadata": {},
   "outputs": [
    {
     "data": {
      "text/plain": [
       "array(['Receitas Correntes', 'Receitas de Capital', nan,\n",
       "       'Receitas Correntes - intra-orçamentárias', 'Sem informação',\n",
       "       'Receitas de Capital - intra-orçamentárias'], dtype=object)"
      ]
     },
     "execution_count": 29,
     "metadata": {},
     "output_type": "execute_result"
    }
   ],
   "source": [
    "df['Economic Category'].unique()"
   ]
  },
  {
   "cell_type": "code",
   "execution_count": 30,
   "metadata": {},
   "outputs": [],
   "source": [
    "# Now we store these columns in a dictionary to rename the codes\n",
    "\n",
    "economic_category_dict = {\n",
    "    'Receitas Correntes': 'Current Revenues',\n",
    "    'Receitas de Capital': 'Capital Revenues',\n",
    "    'Receitas Correntes - intra-orçamentárias': 'Intra-Budgetary Current Revenues',\n",
    "    'Sem informação': 'No Information',\n",
    "    'Receitas de Capital - intra-orçamentárias': 'Intra-Budgetary Capital Revenues'\n",
    "}\n",
    "\n",
    "df['Economic Category'].replace(economic_category_dict, inplace = True)"
   ]
  },
  {
   "cell_type": "code",
   "execution_count": 31,
   "metadata": {},
   "outputs": [
    {
     "data": {
      "text/plain": [
       "array(['Current Revenues', 'Capital Revenues', nan,\n",
       "       'Intra-Budgetary Current Revenues', 'No Information',\n",
       "       'Intra-Budgetary Capital Revenues'], dtype=object)"
      ]
     },
     "execution_count": 31,
     "metadata": {},
     "output_type": "execute_result"
    }
   ],
   "source": [
    "df['Economic Category'].unique()"
   ]
  },
  {
   "cell_type": "code",
   "execution_count": 32,
   "metadata": {},
   "outputs": [],
   "source": [
    "# Now we should replace NaN with 'No Information'\n",
    "df['Economic Category'].fillna('No Information', inplace=True)"
   ]
  },
  {
   "cell_type": "code",
   "execution_count": 33,
   "metadata": {},
   "outputs": [
    {
     "data": {
      "text/plain": [
       "array(['Current Revenues', 'Capital Revenues', 'No Information',\n",
       "       'Intra-Budgetary Current Revenues',\n",
       "       'Intra-Budgetary Capital Revenues'], dtype=object)"
      ]
     },
     "execution_count": 33,
     "metadata": {},
     "output_type": "execute_result"
    }
   ],
   "source": [
    "df['Economic Category'].unique()"
   ]
  },
  {
   "cell_type": "markdown",
   "metadata": {},
   "source": [
    "---"
   ]
  },
  {
   "cell_type": "markdown",
   "metadata": {},
   "source": [
    "Now we can check the null % in the numeric variables"
   ]
  },
  {
   "cell_type": "code",
   "execution_count": 34,
   "metadata": {},
   "outputs": [
    {
     "name": "stdout",
     "output_type": "stream",
     "text": [
      "Updated Budgeted Amount: 98.16%\n",
      "Posted Amount: 99.31%\n",
      "Actual Amount: 5.81%\n",
      "Realization Percentage: 99.29%\n"
     ]
    }
   ],
   "source": [
    "for cat in categories:\n",
    "    print(f'{cat}: {round((df[(df[cat].isna())].shape[0]) / (df.shape[0]) * 100, 2)}%')"
   ]
  },
  {
   "cell_type": "markdown",
   "metadata": {},
   "source": [
    "We see we have a huge amount of null values except for `Actual Amount`. Unfortunately there's little we can do about this, so let's save this dataframe."
   ]
  },
  {
   "cell_type": "code",
   "execution_count": 35,
   "metadata": {},
   "outputs": [],
   "source": [
    "# Now we save the dataframe\n",
    "df.to_csv(\"../data/output/data_clean.csv\", index = False)"
   ]
  }
 ],
 "metadata": {
  "kernelspec": {
   "display_name": "test",
   "language": "python",
   "name": "python3"
  },
  "language_info": {
   "codemirror_mode": {
    "name": "ipython",
    "version": 3
   },
   "file_extension": ".py",
   "mimetype": "text/x-python",
   "name": "python",
   "nbconvert_exporter": "python",
   "pygments_lexer": "ipython3",
   "version": "3.12.4"
  }
 },
 "nbformat": 4,
 "nbformat_minor": 2
}
