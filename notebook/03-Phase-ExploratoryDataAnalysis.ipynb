{
 "cells": [
  {
   "cell_type": "markdown",
   "metadata": {},
   "source": [
    "## Importing libreries"
   ]
  },
  {
   "cell_type": "markdown",
   "metadata": {},
   "source": [
    "---"
   ]
  },
  {
   "cell_type": "code",
   "execution_count": 132,
   "metadata": {},
   "outputs": [],
   "source": [
    "# Importing libraries\n",
    "\n",
    "# Data treatment\n",
    "# -----------------------------------------------------------------------\n",
    "import pandas as pd\n",
    "import numpy as np\n",
    "\n",
    "# Path\n",
    "import sys\n",
    "sys.path.append('../')\n",
    "\n",
    "# Config\n",
    "# -----------------------------------------------------------------------\n",
    "pd.set_option('display.max_columns', None) # para poder visualizar todas las columnas de los DataFrames"
   ]
  },
  {
   "cell_type": "code",
   "execution_count": 195,
   "metadata": {},
   "outputs": [],
   "source": [
    "from src.support import find_outliers_iqr"
   ]
  },
  {
   "cell_type": "markdown",
   "metadata": {},
   "source": [
    "## Load data"
   ]
  },
  {
   "cell_type": "markdown",
   "metadata": {},
   "source": [
    "---"
   ]
  },
  {
   "cell_type": "code",
   "execution_count": 133,
   "metadata": {},
   "outputs": [],
   "source": [
    "path = \"../data/output/data_clean.csv\"\n",
    "\n",
    "df = pd.read_csv(path)"
   ]
  },
  {
   "cell_type": "markdown",
   "metadata": {},
   "source": [
    "#### Currency observation\n",
    "\n",
    "Although data does not explicitly mention the currency, since these are Brazilian government data, it is reasonable to assume that the amounts are in Brazilian Reais (BRL), as this is the official currency of Brazil. This would be consistent with the standard practices for publishing financial data by the government of that country."
   ]
  },
  {
   "cell_type": "markdown",
   "metadata": {},
   "source": [
    "## Revenue Distribution by Economic Category"
   ]
  },
  {
   "cell_type": "markdown",
   "metadata": {},
   "source": [
    "---"
   ]
  },
  {
   "cell_type": "markdown",
   "metadata": {},
   "source": [
    "Let's start analyzing the most significant revenue categories and their contribution to total revenues. We can check quickly the different types of Economic Categories"
   ]
  },
  {
   "cell_type": "code",
   "execution_count": 135,
   "metadata": {},
   "outputs": [
    {
     "data": {
      "text/plain": [
       "array(['Current Revenues', 'Capital Revenues', 'No Information',\n",
       "       'Intra-Budgetary Current Revenues',\n",
       "       'Intra-Budgetary Capital Revenues'], dtype=object)"
      ]
     },
     "execution_count": 135,
     "metadata": {},
     "output_type": "execute_result"
    }
   ],
   "source": [
    "df['Economic Category'].unique()"
   ]
  },
  {
   "cell_type": "markdown",
   "metadata": {},
   "source": [
    "Show the number of operations with an Actual Amount registered grouped by Economic Category"
   ]
  },
  {
   "cell_type": "code",
   "execution_count": 136,
   "metadata": {},
   "outputs": [
    {
     "data": {
      "text/plain": [
       "Economic Category\n",
       "Capital Revenues                     27065\n",
       "Current Revenues                    907002\n",
       "Intra-Budgetary Capital Revenues        86\n",
       "Intra-Budgetary Current Revenues     14567\n",
       "No Information                       17893\n",
       "Name: Actual Amount, dtype: int64"
      ]
     },
     "execution_count": 136,
     "metadata": {},
     "output_type": "execute_result"
    }
   ],
   "source": [
    "df.groupby('Economic Category')['Actual Amount'].count().round(0)"
   ]
  },
  {
   "cell_type": "markdown",
   "metadata": {},
   "source": [
    "With this information, we can show some initial insights about the data:\n",
    "\n",
    "1. **Current Revenues** is the most represented category with 907,002 entries. Current revenues probably include taxes, fees, and other regular government income.\n",
    "\n",
    "2. **Intra-Budgetary Current Revenues** has far fewer entries, with a total of 14,567. This difference indicates that intra-budgetary revenues, those generated within the government's own budget, represent a much smaller portion of total entries.\n",
    "\n",
    "3. **Capital Revenues** has 27,065 entries, indicating that capital revenues (which might include revenue from asset sales, investments, or financing) are also important but not as common as current revenues. However, this kind of transactions are usually way more expensive than Current Revenues as we will see in the next step.\n",
    "\n",
    "4. **Intra-Budgetary Capital Revenues** with only 86 entries, shows that intra-budgetary capital revenues are unusual. This could imply that there are few events or sources of capital income occurring within the government's own budget.\n",
    "\n",
    "5. **No Information** has 17893 entries. Depending on how big the mean amount is it could be a big loss of information or couldn't be."
   ]
  },
  {
   "cell_type": "markdown",
   "metadata": {},
   "source": [
    "We should remember that we have some entries with no 'Actual amount' available, representing 94.18% of the data:"
   ]
  },
  {
   "cell_type": "code",
   "execution_count": 137,
   "metadata": {},
   "outputs": [
    {
     "data": {
      "text/plain": [
       "94.18"
      ]
     },
     "execution_count": 137,
     "metadata": {},
     "output_type": "execute_result"
    }
   ],
   "source": [
    "round(df.groupby('Economic Category')['Actual Amount'].count().sum() / df.shape[0] * 100, 2)"
   ]
  },
  {
   "cell_type": "markdown",
   "metadata": {},
   "source": [
    "Let's now move to the value of operations with an Actual Amount registered grouped by Economic Category"
   ]
  },
  {
   "cell_type": "code",
   "execution_count": 138,
   "metadata": {},
   "outputs": [
    {
     "data": {
      "text/plain": [
       "Economic Category\n",
       "Capital Revenues                    1.200415e+13\n",
       "Current Revenues                    1.202508e+13\n",
       "Intra-Budgetary Capital Revenues    2.141127e+10\n",
       "Intra-Budgetary Current Revenues    2.805787e+11\n",
       "No Information                      3.271665e+11\n",
       "Name: Actual Amount, dtype: float64"
      ]
     },
     "execution_count": 138,
     "metadata": {},
     "output_type": "execute_result"
    }
   ],
   "source": [
    "df.groupby('Economic Category')['Actual Amount'].sum().round(0)"
   ]
  },
  {
   "cell_type": "markdown",
   "metadata": {},
   "source": [
    "We can extract again some valuable insights:\n",
    "\n",
    "1. **Current Revenues**:\n",
    "   - The total actual revenues amount to **1.202 x 10¹³** (approximately 12.02 trillion Brazilian reais). This confirms that current revenues are a huge source of income for the government, as already suggested by the number of entries in this category.\n",
    "\n",
    "2. **Intra-Budgetary Current Revenues**:\n",
    "   - The total actual revenues amount to **2.8058 x 10¹¹** (280.58 billion reais). Although much smaller than \"Receitas Correntes,\" it is still a significant amount.\n",
    "\n",
    "3. **Capital Revenues**:\n",
    "   - The total actual revenues amount to **1.20 x 10¹³** (approximately 12 trillion reais). Capital revenues are almost equivalent in magnitude to current revenues, indicating that this category also plays a crucial role in government revenue.\n",
    "\n",
    "4. **Intra-Budgetary Capital Revenues**:\n",
    "   - The total actual amount is **2.141 x 10¹⁰** (21.41 billion reais). Similar to \"Receitas Correntes - intra-orçamentárias,\" these revenues are a small fraction compared to the total capital revenues.\n",
    "\n",
    "5. **No Information**:\n",
    "   - The total amount is **3.27166 x 10¹¹** (327.17 billion reais). Represents a 1.33% out of the total with unknown Category. Despite seeming to be low it's a huge amount that should have been labeled."
   ]
  },
  {
   "cell_type": "code",
   "execution_count": 139,
   "metadata": {},
   "outputs": [
    {
     "data": {
      "text/plain": [
       "1.33"
      ]
     },
     "execution_count": 139,
     "metadata": {},
     "output_type": "execute_result"
    }
   ],
   "source": [
    "# We can also compute the total amount of money\n",
    "round(df[df['Economic Category'] == 'No Information']['Actual Amount'].sum() / df['Actual Amount'].sum() * 100, 2)"
   ]
  },
  {
   "cell_type": "markdown",
   "metadata": {},
   "source": [
    "---"
   ]
  },
  {
   "cell_type": "markdown",
   "metadata": {},
   "source": [
    "Now we can compute the average difference between projected and actual revenues for each category. This only makes sense for entries that have both numbers available, which is only 8837 entries"
   ]
  },
  {
   "cell_type": "code",
   "execution_count": 140,
   "metadata": {},
   "outputs": [
    {
     "data": {
      "text/html": [
       "<div>\n",
       "<style scoped>\n",
       "    .dataframe tbody tr th:only-of-type {\n",
       "        vertical-align: middle;\n",
       "    }\n",
       "\n",
       "    .dataframe tbody tr th {\n",
       "        vertical-align: top;\n",
       "    }\n",
       "\n",
       "    .dataframe thead th {\n",
       "        text-align: right;\n",
       "    }\n",
       "</style>\n",
       "<table border=\"1\" class=\"dataframe\">\n",
       "  <thead>\n",
       "    <tr style=\"text-align: right;\">\n",
       "      <th></th>\n",
       "      <th>Economic Category</th>\n",
       "      <th>Actual Amount</th>\n",
       "      <th>Updated Budgeted Amount</th>\n",
       "    </tr>\n",
       "  </thead>\n",
       "  <tbody>\n",
       "    <tr>\n",
       "      <th>20</th>\n",
       "      <td>Capital Revenues</td>\n",
       "      <td>985939.65</td>\n",
       "      <td>640279.0</td>\n",
       "    </tr>\n",
       "    <tr>\n",
       "      <th>21</th>\n",
       "      <td>Capital Revenues</td>\n",
       "      <td>194307.50</td>\n",
       "      <td>358413.0</td>\n",
       "    </tr>\n",
       "    <tr>\n",
       "      <th>22</th>\n",
       "      <td>No Information</td>\n",
       "      <td>68323.99</td>\n",
       "      <td>111097.0</td>\n",
       "    </tr>\n",
       "    <tr>\n",
       "      <th>23</th>\n",
       "      <td>Current Revenues</td>\n",
       "      <td>107548.62</td>\n",
       "      <td>350042.0</td>\n",
       "    </tr>\n",
       "    <tr>\n",
       "      <th>25</th>\n",
       "      <td>Current Revenues</td>\n",
       "      <td>5145837.84</td>\n",
       "      <td>4639104.0</td>\n",
       "    </tr>\n",
       "    <tr>\n",
       "      <th>...</th>\n",
       "      <td>...</td>\n",
       "      <td>...</td>\n",
       "      <td>...</td>\n",
       "    </tr>\n",
       "    <tr>\n",
       "      <th>1024650</th>\n",
       "      <td>Current Revenues</td>\n",
       "      <td>1098.41</td>\n",
       "      <td>907063.0</td>\n",
       "    </tr>\n",
       "    <tr>\n",
       "      <th>1025386</th>\n",
       "      <td>Current Revenues</td>\n",
       "      <td>480.00</td>\n",
       "      <td>517775.0</td>\n",
       "    </tr>\n",
       "    <tr>\n",
       "      <th>1025615</th>\n",
       "      <td>Current Revenues</td>\n",
       "      <td>1483.23</td>\n",
       "      <td>1323033.0</td>\n",
       "    </tr>\n",
       "    <tr>\n",
       "      <th>1025765</th>\n",
       "      <td>Current Revenues</td>\n",
       "      <td>135.90</td>\n",
       "      <td>407371.0</td>\n",
       "    </tr>\n",
       "    <tr>\n",
       "      <th>1026114</th>\n",
       "      <td>Current Revenues</td>\n",
       "      <td>349087.72</td>\n",
       "      <td>97926843.0</td>\n",
       "    </tr>\n",
       "  </tbody>\n",
       "</table>\n",
       "<p>8837 rows × 3 columns</p>\n",
       "</div>"
      ],
      "text/plain": [
       "        Economic Category  Actual Amount  Updated Budgeted Amount\n",
       "20       Capital Revenues      985939.65                 640279.0\n",
       "21       Capital Revenues      194307.50                 358413.0\n",
       "22         No Information       68323.99                 111097.0\n",
       "23       Current Revenues      107548.62                 350042.0\n",
       "25       Current Revenues     5145837.84                4639104.0\n",
       "...                   ...            ...                      ...\n",
       "1024650  Current Revenues        1098.41                 907063.0\n",
       "1025386  Current Revenues         480.00                 517775.0\n",
       "1025615  Current Revenues        1483.23                1323033.0\n",
       "1025765  Current Revenues         135.90                 407371.0\n",
       "1026114  Current Revenues      349087.72               97926843.0\n",
       "\n",
       "[8837 rows x 3 columns]"
      ]
     },
     "execution_count": 140,
     "metadata": {},
     "output_type": "execute_result"
    }
   ],
   "source": [
    "df_diff = df[df['Actual Amount'].notna() & df['Updated Budgeted Amount'].notna()][['Economic Category', 'Actual Amount', 'Updated Budgeted Amount']]\n",
    "df_diff"
   ]
  },
  {
   "cell_type": "code",
   "execution_count": 169,
   "metadata": {},
   "outputs": [
    {
     "data": {
      "text/plain": [
       "Economic Category\n",
       "Capital Revenues                   -2.129977e+10\n",
       "Current Revenues                   -4.509515e+08\n",
       "Intra-Budgetary Current Revenues   -1.193434e+08\n",
       "No Information                     -4.687883e+09\n",
       "Name: Difference, dtype: float64"
      ]
     },
     "execution_count": 169,
     "metadata": {},
     "output_type": "execute_result"
    }
   ],
   "source": [
    "df_diff['Difference'] = df_diff['Actual Amount'] - df_diff['Updated Budgeted Amount']\n",
    "df_diff['Porcentual_difference'] = df_diff['Difference'] / df_diff['Updated Budgeted Amount'] * 100\n",
    "\n",
    "df_diff.groupby('Economic Category')['Difference'].mean().round(0)"
   ]
  },
  {
   "cell_type": "markdown",
   "metadata": {},
   "source": [
    "It makes more sense to show the porcentual difference:"
   ]
  },
  {
   "cell_type": "code",
   "execution_count": 194,
   "metadata": {},
   "outputs": [
    {
     "data": {
      "text/html": [
       "<div>\n",
       "<style scoped>\n",
       "    .dataframe tbody tr th:only-of-type {\n",
       "        vertical-align: middle;\n",
       "    }\n",
       "\n",
       "    .dataframe tbody tr th {\n",
       "        vertical-align: top;\n",
       "    }\n",
       "\n",
       "    .dataframe thead th {\n",
       "        text-align: right;\n",
       "    }\n",
       "</style>\n",
       "<table border=\"1\" class=\"dataframe\">\n",
       "  <thead>\n",
       "    <tr style=\"text-align: right;\">\n",
       "      <th></th>\n",
       "      <th>mean</th>\n",
       "      <th>median</th>\n",
       "    </tr>\n",
       "    <tr>\n",
       "      <th>Economic Category</th>\n",
       "      <th></th>\n",
       "      <th></th>\n",
       "    </tr>\n",
       "  </thead>\n",
       "  <tbody>\n",
       "    <tr>\n",
       "      <th>Capital Revenues</th>\n",
       "      <td>2785.083178</td>\n",
       "      <td>-46.251895</td>\n",
       "    </tr>\n",
       "    <tr>\n",
       "      <th>Current Revenues</th>\n",
       "      <td>9900.145758</td>\n",
       "      <td>-48.355853</td>\n",
       "    </tr>\n",
       "    <tr>\n",
       "      <th>Intra-Budgetary Current Revenues</th>\n",
       "      <td>199.616772</td>\n",
       "      <td>-38.589202</td>\n",
       "    </tr>\n",
       "    <tr>\n",
       "      <th>No Information</th>\n",
       "      <td>1613.218577</td>\n",
       "      <td>-31.114211</td>\n",
       "    </tr>\n",
       "  </tbody>\n",
       "</table>\n",
       "</div>"
      ],
      "text/plain": [
       "                                         mean     median\n",
       "Economic Category                                       \n",
       "Capital Revenues                  2785.083178 -46.251895\n",
       "Current Revenues                  9900.145758 -48.355853\n",
       "Intra-Budgetary Current Revenues   199.616772 -38.589202\n",
       "No Information                    1613.218577 -31.114211"
      ]
     },
     "execution_count": 194,
     "metadata": {},
     "output_type": "execute_result"
    }
   ],
   "source": [
    "df_diff.groupby('Economic Category')['Porcentual_difference'].agg(['mean', 'median'])"
   ]
  },
  {
   "cell_type": "markdown",
   "metadata": {},
   "source": [
    "We can see that mean and median are extremely different. This is usually caused by outliers, let's check"
   ]
  },
  {
   "cell_type": "code",
   "execution_count": 196,
   "metadata": {},
   "outputs": [
    {
     "data": {
      "text/html": [
       "<div>\n",
       "<style scoped>\n",
       "    .dataframe tbody tr th:only-of-type {\n",
       "        vertical-align: middle;\n",
       "    }\n",
       "\n",
       "    .dataframe tbody tr th {\n",
       "        vertical-align: top;\n",
       "    }\n",
       "\n",
       "    .dataframe thead th {\n",
       "        text-align: right;\n",
       "    }\n",
       "</style>\n",
       "<table border=\"1\" class=\"dataframe\">\n",
       "  <thead>\n",
       "    <tr style=\"text-align: right;\">\n",
       "      <th></th>\n",
       "      <th>Economic Category</th>\n",
       "      <th>Actual Amount</th>\n",
       "      <th>Updated Budgeted Amount</th>\n",
       "      <th>Difference</th>\n",
       "      <th>Porcentual_difference</th>\n",
       "    </tr>\n",
       "  </thead>\n",
       "  <tbody>\n",
       "    <tr>\n",
       "      <th>5190</th>\n",
       "      <td>Current Revenues</td>\n",
       "      <td>1.447275e+06</td>\n",
       "      <td>2.0</td>\n",
       "      <td>1.447273e+06</td>\n",
       "      <td>7.236367e+07</td>\n",
       "    </tr>\n",
       "    <tr>\n",
       "      <th>6193</th>\n",
       "      <td>Current Revenues</td>\n",
       "      <td>2.453838e+06</td>\n",
       "      <td>131.0</td>\n",
       "      <td>2.453707e+06</td>\n",
       "      <td>1.873059e+06</td>\n",
       "    </tr>\n",
       "    <tr>\n",
       "      <th>4289</th>\n",
       "      <td>Current Revenues</td>\n",
       "      <td>8.027243e+05</td>\n",
       "      <td>50.0</td>\n",
       "      <td>8.026743e+05</td>\n",
       "      <td>1.605349e+06</td>\n",
       "    </tr>\n",
       "    <tr>\n",
       "      <th>10427</th>\n",
       "      <td>Capital Revenues</td>\n",
       "      <td>2.319754e+10</td>\n",
       "      <td>3111822.0</td>\n",
       "      <td>2.319442e+10</td>\n",
       "      <td>7.453647e+05</td>\n",
       "    </tr>\n",
       "    <tr>\n",
       "      <th>5762</th>\n",
       "      <td>Current Revenues</td>\n",
       "      <td>3.183964e+06</td>\n",
       "      <td>842.0</td>\n",
       "      <td>3.183122e+06</td>\n",
       "      <td>3.780430e+05</td>\n",
       "    </tr>\n",
       "    <tr>\n",
       "      <th>...</th>\n",
       "      <td>...</td>\n",
       "      <td>...</td>\n",
       "      <td>...</td>\n",
       "      <td>...</td>\n",
       "      <td>...</td>\n",
       "    </tr>\n",
       "    <tr>\n",
       "      <th>5599</th>\n",
       "      <td>Intra-Budgetary Current Revenues</td>\n",
       "      <td>-6.322226e+04</td>\n",
       "      <td>29019.0</td>\n",
       "      <td>-9.224126e+04</td>\n",
       "      <td>-3.178651e+02</td>\n",
       "    </tr>\n",
       "    <tr>\n",
       "      <th>12179</th>\n",
       "      <td>Current Revenues</td>\n",
       "      <td>-3.253205e+05</td>\n",
       "      <td>132367.0</td>\n",
       "      <td>-4.576875e+05</td>\n",
       "      <td>-3.457716e+02</td>\n",
       "    </tr>\n",
       "    <tr>\n",
       "      <th>679663</th>\n",
       "      <td>Current Revenues</td>\n",
       "      <td>-3.803480e+03</td>\n",
       "      <td>1349.0</td>\n",
       "      <td>-5.152480e+03</td>\n",
       "      <td>-3.819481e+02</td>\n",
       "    </tr>\n",
       "    <tr>\n",
       "      <th>10077</th>\n",
       "      <td>Intra-Budgetary Current Revenues</td>\n",
       "      <td>-2.124860e+05</td>\n",
       "      <td>52900.0</td>\n",
       "      <td>-2.653860e+05</td>\n",
       "      <td>-5.016750e+02</td>\n",
       "    </tr>\n",
       "    <tr>\n",
       "      <th>6997</th>\n",
       "      <td>Current Revenues</td>\n",
       "      <td>-2.909619e+05</td>\n",
       "      <td>254.0</td>\n",
       "      <td>-2.912159e+05</td>\n",
       "      <td>-1.146519e+05</td>\n",
       "    </tr>\n",
       "  </tbody>\n",
       "</table>\n",
       "<p>805 rows × 5 columns</p>\n",
       "</div>"
      ],
      "text/plain": [
       "                       Economic Category  Actual Amount  \\\n",
       "5190                    Current Revenues   1.447275e+06   \n",
       "6193                    Current Revenues   2.453838e+06   \n",
       "4289                    Current Revenues   8.027243e+05   \n",
       "10427                   Capital Revenues   2.319754e+10   \n",
       "5762                    Current Revenues   3.183964e+06   \n",
       "...                                  ...            ...   \n",
       "5599    Intra-Budgetary Current Revenues  -6.322226e+04   \n",
       "12179                   Current Revenues  -3.253205e+05   \n",
       "679663                  Current Revenues  -3.803480e+03   \n",
       "10077   Intra-Budgetary Current Revenues  -2.124860e+05   \n",
       "6997                    Current Revenues  -2.909619e+05   \n",
       "\n",
       "        Updated Budgeted Amount    Difference  Porcentual_difference  \n",
       "5190                        2.0  1.447273e+06           7.236367e+07  \n",
       "6193                      131.0  2.453707e+06           1.873059e+06  \n",
       "4289                       50.0  8.026743e+05           1.605349e+06  \n",
       "10427                 3111822.0  2.319442e+10           7.453647e+05  \n",
       "5762                      842.0  3.183122e+06           3.780430e+05  \n",
       "...                         ...           ...                    ...  \n",
       "5599                    29019.0 -9.224126e+04          -3.178651e+02  \n",
       "12179                  132367.0 -4.576875e+05          -3.457716e+02  \n",
       "679663                   1349.0 -5.152480e+03          -3.819481e+02  \n",
       "10077                   52900.0 -2.653860e+05          -5.016750e+02  \n",
       "6997                      254.0 -2.912159e+05          -1.146519e+05  \n",
       "\n",
       "[805 rows x 5 columns]"
      ]
     },
     "execution_count": 196,
     "metadata": {},
     "output_type": "execute_result"
    }
   ],
   "source": [
    "# Getting outliers\n",
    "\n",
    "find_outliers_iqr(df_diff, 'Porcentual_difference').sort_values(by = 'Porcentual_difference', ascending=False)"
   ]
  },
  {
   "cell_type": "code",
   "execution_count": 193,
   "metadata": {},
   "outputs": [
    {
     "data": {
      "text/plain": [
       "Superior Agency                                       Ministério da Economia\n",
       "Agency                     Ministério da Economia - Unidades com vínculo ...\n",
       "Managing Unit Code                   SETORIAL ORCAMENTARIA E FINANCEIRA / ME\n",
       "Economic Category                                           Current Revenues\n",
       "Revenue Source                                                 Contribuições\n",
       "Revenue Type                                           Contribuições sociais\n",
       "Detailing                                       OUTRAS CONTRIBUICOES SOCIAIS\n",
       "Updated Budgeted Amount                                                  2.0\n",
       "Posted Amount                                                            NaN\n",
       "Actual Amount                                                     1447275.45\n",
       "Realization Percentage                                            72363772.0\n",
       "Posting Date                                                             NaT\n",
       "Fiscal Year                                                             2014\n",
       "Name: 5190, dtype: object"
      ]
     },
     "execution_count": 193,
     "metadata": {},
     "output_type": "execute_result"
    }
   ],
   "source": [
    "df.iloc[5190,:]"
   ]
  },
  {
   "cell_type": "markdown",
   "metadata": {},
   "source": [
    "---"
   ]
  },
  {
   "cell_type": "markdown",
   "metadata": {},
   "source": [
    "### Temporal analysis"
   ]
  },
  {
   "cell_type": "code",
   "execution_count": 147,
   "metadata": {},
   "outputs": [
    {
     "name": "stderr",
     "output_type": "stream",
     "text": [
      "/var/folders/gf/rtshnkx974q994djpf858hv40000gn/T/ipykernel_36435/3267082229.py:1: UserWarning: Parsing dates in %Y-%m-%d format when dayfirst=True was specified. Pass `dayfirst=False` or specify a format to silence this warning.\n",
      "  df['Posting Date'] = pd.to_datetime(df['Posting Date'], dayfirst=True)\n"
     ]
    }
   ],
   "source": [
    "df['Posting Date'] = pd.to_datetime(df['Posting Date'], dayfirst=True)"
   ]
  },
  {
   "cell_type": "code",
   "execution_count": 143,
   "metadata": {},
   "outputs": [
    {
     "data": {
      "text/plain": [
       "Fiscal Year\n",
       "2013    1.663430e+12\n",
       "2014    2.211514e+12\n",
       "2015    2.634219e+12\n",
       "2016    2.787181e+12\n",
       "2017    2.476074e+12\n",
       "2018    2.865977e+12\n",
       "2019    2.880424e+12\n",
       "2020    3.460501e+12\n",
       "2021    3.679059e+12\n",
       "Name: Actual Amount, dtype: float64"
      ]
     },
     "execution_count": 143,
     "metadata": {},
     "output_type": "execute_result"
    }
   ],
   "source": [
    "# Now, let's evaluate the temporal trends by calculating the sum of actual income per year.\n",
    "df.groupby('Fiscal Year')['Actual Amount'].sum()"
   ]
  },
  {
   "cell_type": "markdown",
   "metadata": {},
   "source": [
    "We can see a increasement of the incomes over time except for a slight decreasement in 2016-2017 that can be related to Brasil economical crisis in 2014-2017"
   ]
  },
  {
   "cell_type": "code",
   "execution_count": 163,
   "metadata": {},
   "outputs": [
    {
     "name": "stdout",
     "output_type": "stream",
     "text": [
      "2013 Posting Date\n",
      "12.0    1.617267e+12\n",
      "Name: Actual Amount, dtype: float64\n",
      "2014 Posting Date\n",
      "12.0    2.192906e+12\n",
      "Name: Actual Amount, dtype: float64\n",
      "2015 Posting Date\n",
      "12.0    2.630488e+12\n",
      "Name: Actual Amount, dtype: float64\n",
      "2016 Posting Date\n",
      "1.0     2.445406e+11\n",
      "2.0     1.443923e+11\n",
      "3.0     3.234955e+11\n",
      "4.0     2.215033e+11\n",
      "5.0     1.662483e+11\n",
      "6.0     1.752807e+11\n",
      "7.0     2.347508e+11\n",
      "8.0     1.788412e+11\n",
      "9.0     1.913556e+11\n",
      "10.0    2.877622e+11\n",
      "11.0    1.512721e+11\n",
      "12.0    4.413237e+11\n",
      "Name: Actual Amount, dtype: float64\n",
      "2017 Posting Date\n",
      "1.0     3.554494e+11\n",
      "2.0     1.604895e+11\n",
      "3.0     1.949693e+11\n",
      "4.0     1.909670e+11\n",
      "5.0     1.517739e+11\n",
      "6.0     1.733170e+11\n",
      "7.0     1.801296e+11\n",
      "8.0     2.202914e+11\n",
      "9.0     2.212834e+11\n",
      "10.0    2.109477e+11\n",
      "11.0    1.686580e+11\n",
      "12.0    1.703508e+11\n",
      "Name: Actual Amount, dtype: float64\n",
      "2018 Posting Date\n",
      "1.0     3.058722e+11\n",
      "2.0     1.599130e+11\n",
      "3.0     2.478358e+11\n",
      "4.0     2.647583e+11\n",
      "5.0     1.734651e+11\n",
      "6.0     1.754082e+11\n",
      "7.0     2.402284e+11\n",
      "8.0     2.891632e+11\n",
      "9.0     3.731108e+11\n",
      "10.0    1.817863e+11\n",
      "11.0    1.899727e+11\n",
      "12.0    1.975763e+11\n",
      "Name: Actual Amount, dtype: float64\n",
      "2019 Posting Date\n",
      "1.0     2.632112e+11\n",
      "2.0     1.992199e+11\n",
      "3.0     2.411942e+11\n",
      "4.0     2.342813e+11\n",
      "5.0     2.430110e+11\n",
      "6.0     1.978920e+11\n",
      "7.0     2.408810e+11\n",
      "8.0     1.949034e+11\n",
      "9.0     2.469300e+11\n",
      "10.0    2.082898e+11\n",
      "11.0    2.396459e+11\n",
      "12.0    3.296886e+11\n",
      "Name: Actual Amount, dtype: float64\n",
      "2020 Posting Date\n",
      "1.0     2.827462e+11\n",
      "2.0     1.679156e+11\n",
      "3.0     1.604661e+11\n",
      "4.0     2.264737e+11\n",
      "5.0     1.612892e+11\n",
      "6.0     2.140669e+11\n",
      "7.0     3.148417e+11\n",
      "8.0     6.221895e+11\n",
      "9.0     3.228933e+11\n",
      "10.0    3.966877e+11\n",
      "11.0    2.538795e+11\n",
      "12.0    2.960248e+11\n",
      "Name: Actual Amount, dtype: float64\n",
      "2021 Posting Date\n",
      "1.0     3.085289e+11\n",
      "2.0     2.605635e+11\n",
      "3.0     3.648317e+11\n",
      "4.0     4.054579e+11\n",
      "5.0     3.352787e+11\n",
      "6.0     2.590507e+11\n",
      "7.0     3.714142e+11\n",
      "8.0     1.564916e+11\n",
      "9.0     4.161389e+11\n",
      "10.0    3.653697e+11\n",
      "11.0    2.693663e+11\n",
      "12.0    2.456801e+10\n",
      "Name: Actual Amount, dtype: float64\n"
     ]
    }
   ],
   "source": [
    "# Now, let's evaluate the temporal trends by calculating the sum of actual income per year and month.\n",
    "for i in range(2013, 2022):\n",
    "    \n",
    "    print(i, df[df['Fiscal Year'] == i].groupby(df['Posting Date'].dt.month)['Actual Amount'].sum())"
   ]
  },
  {
   "cell_type": "markdown",
   "metadata": {},
   "source": [
    "1. **2013-2015**: The data only includes the total amount for December, and these amounts are significantly higher compared to individual months in subsequent years. This suggests that income may have been reported in a lump sum at the end of the year during these early years.\n",
    "\n",
    "2. **2016 onwards**: The income is reported monthly, providing a clearer picture of income flows. Notable trends include:\n",
    "   - **2016**: A peak in December with an actual amount of approximately 4.41 x 10¹¹.\n",
    "\n",
    "   - **2017-2019**: Monthly income appears fairly consistent.\n",
    "\n",
    "   - **2020**: Significant spikes in August (6.22 x 10¹¹) and December, possibly reflecting special circumstances (maybe COVID-19-related budget adjustments).\n",
    "\n",
    "   - **2021**: Again spikes in April and September but quite homogeneous across the year."
   ]
  }
 ],
 "metadata": {
  "kernelspec": {
   "display_name": "test",
   "language": "python",
   "name": "python3"
  },
  "language_info": {
   "codemirror_mode": {
    "name": "ipython",
    "version": 3
   },
   "file_extension": ".py",
   "mimetype": "text/x-python",
   "name": "python",
   "nbconvert_exporter": "python",
   "pygments_lexer": "ipython3",
   "version": "3.12.4"
  }
 },
 "nbformat": 4,
 "nbformat_minor": 2
}
