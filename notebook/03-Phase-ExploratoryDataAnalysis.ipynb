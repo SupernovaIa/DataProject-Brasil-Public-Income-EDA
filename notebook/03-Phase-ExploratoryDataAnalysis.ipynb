{
 "cells": [
  {
   "cell_type": "markdown",
   "metadata": {},
   "source": [
    "## Importing libreries"
   ]
  },
  {
   "cell_type": "markdown",
   "metadata": {},
   "source": [
    "---"
   ]
  },
  {
   "cell_type": "code",
   "execution_count": 83,
   "metadata": {},
   "outputs": [],
   "source": [
    "# Importing libraries\n",
    "\n",
    "# Data treatment\n",
    "# -----------------------------------------------------------------------\n",
    "import pandas as pd\n",
    "import numpy as np\n",
    "\n",
    "# Path\n",
    "import sys\n",
    "sys.path.append('../')\n",
    "\n",
    "# Config\n",
    "# -----------------------------------------------------------------------\n",
    "pd.set_option('display.max_columns', None) # para poder visualizar todas las columnas de los DataFrames"
   ]
  },
  {
   "cell_type": "markdown",
   "metadata": {},
   "source": [
    "## Load data"
   ]
  },
  {
   "cell_type": "markdown",
   "metadata": {},
   "source": [
    "---"
   ]
  },
  {
   "cell_type": "code",
   "execution_count": 84,
   "metadata": {},
   "outputs": [],
   "source": [
    "path = \"../data/output/data_clean.csv\"\n",
    "\n",
    "df = pd.read_csv(path)"
   ]
  },
  {
   "cell_type": "code",
   "execution_count": 85,
   "metadata": {},
   "outputs": [
    {
     "data": {
      "text/html": [
       "<div>\n",
       "<style scoped>\n",
       "    .dataframe tbody tr th:only-of-type {\n",
       "        vertical-align: middle;\n",
       "    }\n",
       "\n",
       "    .dataframe tbody tr th {\n",
       "        vertical-align: top;\n",
       "    }\n",
       "\n",
       "    .dataframe thead th {\n",
       "        text-align: right;\n",
       "    }\n",
       "</style>\n",
       "<table border=\"1\" class=\"dataframe\">\n",
       "  <thead>\n",
       "    <tr style=\"text-align: right;\">\n",
       "      <th></th>\n",
       "      <th>Superior Agency</th>\n",
       "      <th>Agency</th>\n",
       "      <th>Managing Unit Code</th>\n",
       "      <th>Economic Category</th>\n",
       "      <th>Revenue Source</th>\n",
       "      <th>Revenue Type</th>\n",
       "      <th>Detailing</th>\n",
       "      <th>Updated Budgeted Amount</th>\n",
       "      <th>Posted Amount</th>\n",
       "      <th>Actual Amount</th>\n",
       "      <th>Realization Percentage</th>\n",
       "      <th>Posting Date</th>\n",
       "      <th>Fiscal Year</th>\n",
       "    </tr>\n",
       "  </thead>\n",
       "  <tbody>\n",
       "    <tr>\n",
       "      <th>856669</th>\n",
       "      <td>Ministério da Infraestrutura</td>\n",
       "      <td>Agência Nacional de Transportes Terrestres</td>\n",
       "      <td>AGENCIA NACIONAL DE TRANSPORTES TERRESTRES</td>\n",
       "      <td>Current Revenues</td>\n",
       "      <td>Outras Receitas Correntes</td>\n",
       "      <td>Multas administrativas, contratuais e judicia</td>\n",
       "      <td>MULTAS E JUROS PREVISTOS EM CONTRATOS-PRINC.</td>\n",
       "      <td>NaN</td>\n",
       "      <td>NaN</td>\n",
       "      <td>756405.16</td>\n",
       "      <td>NaN</td>\n",
       "      <td>2020-01-13</td>\n",
       "      <td>2020</td>\n",
       "    </tr>\n",
       "  </tbody>\n",
       "</table>\n",
       "</div>"
      ],
      "text/plain": [
       "                     Superior Agency  \\\n",
       "856669  Ministério da Infraestrutura   \n",
       "\n",
       "                                            Agency  \\\n",
       "856669  Agência Nacional de Transportes Terrestres   \n",
       "\n",
       "                                Managing Unit Code Economic Category  \\\n",
       "856669  AGENCIA NACIONAL DE TRANSPORTES TERRESTRES  Current Revenues   \n",
       "\n",
       "                   Revenue Source  \\\n",
       "856669  Outras Receitas Correntes   \n",
       "\n",
       "                                         Revenue Type  \\\n",
       "856669  Multas administrativas, contratuais e judicia   \n",
       "\n",
       "                                           Detailing  Updated Budgeted Amount  \\\n",
       "856669  MULTAS E JUROS PREVISTOS EM CONTRATOS-PRINC.                      NaN   \n",
       "\n",
       "        Posted Amount  Actual Amount  Realization Percentage Posting Date  \\\n",
       "856669            NaN      756405.16                     NaN   2020-01-13   \n",
       "\n",
       "        Fiscal Year  \n",
       "856669         2020  "
      ]
     },
     "execution_count": 85,
     "metadata": {},
     "output_type": "execute_result"
    }
   ],
   "source": [
    "df.sample()"
   ]
  },
  {
   "cell_type": "markdown",
   "metadata": {},
   "source": [
    "#### Currency observation\n",
    "\n",
    "Although data does not explicitly mention the currency, since these are Brazilian government data, it is reasonable to assume that the amounts are in Brazilian Reais (BRL), as this is the official currency of Brazil. This would be consistent with the standard practices for publishing financial data by the government of that country."
   ]
  },
  {
   "cell_type": "markdown",
   "metadata": {},
   "source": [
    "## Revenue Distribution by Economic Category"
   ]
  },
  {
   "cell_type": "markdown",
   "metadata": {},
   "source": [
    "---"
   ]
  },
  {
   "cell_type": "markdown",
   "metadata": {},
   "source": [
    "Let's start analyzing the most significant revenue categories and their contribution to total revenues. We can check quickly the different types of Economic Categories"
   ]
  },
  {
   "cell_type": "code",
   "execution_count": 86,
   "metadata": {},
   "outputs": [
    {
     "data": {
      "text/plain": [
       "array(['Current Revenues', 'Capital Revenues', 'No Information',\n",
       "       'Intra-Budgetary Current Revenues',\n",
       "       'Intra-Budgetary Capital Revenues'], dtype=object)"
      ]
     },
     "execution_count": 86,
     "metadata": {},
     "output_type": "execute_result"
    }
   ],
   "source": [
    "df['Economic Category'].unique()"
   ]
  },
  {
   "cell_type": "markdown",
   "metadata": {},
   "source": [
    "Show the number of operations with an Actual Amount registered grouped by Economic Category"
   ]
  },
  {
   "cell_type": "code",
   "execution_count": 87,
   "metadata": {},
   "outputs": [
    {
     "data": {
      "text/plain": [
       "Economic Category\n",
       "Capital Revenues                     27065\n",
       "Current Revenues                    907002\n",
       "Intra-Budgetary Capital Revenues        86\n",
       "Intra-Budgetary Current Revenues     14567\n",
       "No Information                       17893\n",
       "Name: Actual Amount, dtype: int64"
      ]
     },
     "execution_count": 87,
     "metadata": {},
     "output_type": "execute_result"
    }
   ],
   "source": [
    "df.groupby('Economic Category')['Actual Amount'].count().round(0)"
   ]
  },
  {
   "cell_type": "markdown",
   "metadata": {},
   "source": [
    "With this information, we can show some initial insights about the data:\n",
    "\n",
    "1. **Current Revenues** is the most represented category with 907,002 entries. Current revenues probably include taxes, fees, and other regular government income.\n",
    "\n",
    "2. **Intra-Budgetary Current Revenues** has far fewer entries, with a total of 14,567. This difference indicates that intra-budgetary revenues, those generated within the government's own budget, represent a much smaller portion of total entries.\n",
    "\n",
    "3. **Capital Revenues** has 27,065 entries, indicating that capital revenues (which might include revenue from asset sales, investments, or financing) are also important but not as common as current revenues. However, this kind of transactions are usually way more expensive than Current Revenues as we will see in the next step.\n",
    "\n",
    "4. **Intra-Budgetary Capital Revenues** with only 86 entries, shows that intra-budgetary capital revenues are unusual. This could imply that there are few events or sources of capital income occurring within the government's own budget.\n",
    "\n",
    "5. **No Information** has 17893 entries. Depending on how big the mean amount is it could be a big loss of information or couldn't be."
   ]
  },
  {
   "cell_type": "markdown",
   "metadata": {},
   "source": [
    "We should remember that we have some entries with no 'Actual amount' available, representing 94.18% of the data:"
   ]
  },
  {
   "cell_type": "code",
   "execution_count": 90,
   "metadata": {},
   "outputs": [
    {
     "data": {
      "text/plain": [
       "94.18"
      ]
     },
     "execution_count": 90,
     "metadata": {},
     "output_type": "execute_result"
    }
   ],
   "source": [
    "round(df.groupby('Economic Category')['Actual Amount'].count().sum() / df.shape[0] * 100, 2)"
   ]
  },
  {
   "cell_type": "markdown",
   "metadata": {},
   "source": [
    "Let's now move to the value of operations with an Actual Amount registered grouped by Economic Category"
   ]
  },
  {
   "cell_type": "code",
   "execution_count": 91,
   "metadata": {},
   "outputs": [
    {
     "data": {
      "text/plain": [
       "Economic Category\n",
       "Capital Revenues                    1.200415e+13\n",
       "Current Revenues                    1.202508e+13\n",
       "Intra-Budgetary Capital Revenues    2.141127e+10\n",
       "Intra-Budgetary Current Revenues    2.805787e+11\n",
       "No Information                      3.271665e+11\n",
       "Name: Actual Amount, dtype: float64"
      ]
     },
     "execution_count": 91,
     "metadata": {},
     "output_type": "execute_result"
    }
   ],
   "source": [
    "df.groupby('Economic Category')['Actual Amount'].sum().round(0)"
   ]
  },
  {
   "cell_type": "markdown",
   "metadata": {},
   "source": [
    "We can extract again some valuable insights:\n",
    "\n",
    "1. **Current Revenues**:\n",
    "   - The total actual revenues amount to **1.202 x 10¹³** (approximately 12.02 trillion Brazilian reais). This confirms that current revenues are a huge source of income for the government, as already suggested by the number of entries in this category.\n",
    "\n",
    "2. **Intra-Budgetary Current Revenues**:\n",
    "   - The total actual revenues amount to **2.8058 x 10¹¹** (280.58 billion reais). Although much smaller than \"Receitas Correntes,\" it is still a significant amount.\n",
    "\n",
    "3. **Capital Revenues**:\n",
    "   - The total actual revenues amount to **1.20 x 10¹³** (approximately 12 trillion reais). Capital revenues are almost equivalent in magnitude to current revenues, indicating that this category also plays a crucial role in government revenue.\n",
    "\n",
    "4. **Intra-Budgetary Capital Revenues**:\n",
    "   - The total actual amount is **2.141 x 10¹⁰** (21.41 billion reais). Similar to \"Receitas Correntes - intra-orçamentárias,\" these revenues are a small fraction compared to the total capital revenues.\n",
    "\n",
    "5. **No Information**:\n",
    "   - The total amount is **3.27166 x 10¹¹** (327.17 billion reais). Represents a 1.33% out of the total with unknown Category. Despite seeming to be low it's a huge amount that should have been labeled."
   ]
  },
  {
   "cell_type": "code",
   "execution_count": 96,
   "metadata": {},
   "outputs": [
    {
     "data": {
      "text/plain": [
       "1.33"
      ]
     },
     "execution_count": 96,
     "metadata": {},
     "output_type": "execute_result"
    }
   ],
   "source": [
    "# We can also compute the total amount of money\n",
    "round(df[df['Economic Category'] == 'No Information']['Actual Amount'].sum() / df['Actual Amount'].sum() * 100, 2)"
   ]
  },
  {
   "cell_type": "markdown",
   "metadata": {},
   "source": [
    "---"
   ]
  },
  {
   "cell_type": "markdown",
   "metadata": {},
   "source": [
    "Now we can compute the average difference between projected and actual revenues for each category. This only makes sense for entries that have both numbers available, which is only 8837 entries"
   ]
  },
  {
   "cell_type": "code",
   "execution_count": 113,
   "metadata": {},
   "outputs": [
    {
     "data": {
      "text/plain": [
       "8837"
      ]
     },
     "execution_count": 113,
     "metadata": {},
     "output_type": "execute_result"
    }
   ],
   "source": [
    "df_diff = df[df['Actual Amount'].notna() & df['Updated Budgeted Amount'].notna()][['Economic Category', 'Actual Amount', 'Updated Budgeted Amount']]\n",
    "df_diff.shape[0]"
   ]
  },
  {
   "cell_type": "code",
   "execution_count": 115,
   "metadata": {},
   "outputs": [
    {
     "data": {
      "text/plain": [
       "Economic Category\n",
       "Capital Revenues                   -2.129977e+10\n",
       "Current Revenues                   -4.509515e+08\n",
       "Intra-Budgetary Current Revenues   -1.193434e+08\n",
       "No Information                     -4.687883e+09\n",
       "Name: Difference, dtype: float64"
      ]
     },
     "execution_count": 115,
     "metadata": {},
     "output_type": "execute_result"
    }
   ],
   "source": [
    "df_diff['Difference'] = df_diff['Actual Amount'] - df_diff['Updated Budgeted Amount']\n",
    "df_diff.groupby('Economic Category')['Difference'].mean().round(0)"
   ]
  },
  {
   "cell_type": "markdown",
   "metadata": {},
   "source": [
    "It makes more sense "
   ]
  },
  {
   "cell_type": "markdown",
   "metadata": {},
   "source": [
    "---"
   ]
  },
  {
   "cell_type": "code",
   "execution_count": 117,
   "metadata": {},
   "outputs": [
    {
     "data": {
      "text/plain": [
       "Fiscal Year\n",
       "2013    1.663430e+12\n",
       "2014    2.211514e+12\n",
       "2015    2.634219e+12\n",
       "2016    2.787181e+12\n",
       "2017    2.476074e+12\n",
       "2018    2.865977e+12\n",
       "2019    2.880424e+12\n",
       "2020    3.460501e+12\n",
       "2021    3.679059e+12\n",
       "Name: Actual Amount, dtype: float64"
      ]
     },
     "execution_count": 117,
     "metadata": {},
     "output_type": "execute_result"
    }
   ],
   "source": [
    "# Now, let's evaluate the temporal trends by calculating the sum of actual income per year.\n",
    "df.groupby('Fiscal Year')['Actual Amount'].sum()"
   ]
  },
  {
   "cell_type": "code",
   "execution_count": 50,
   "metadata": {},
   "outputs": [
    {
     "data": {
      "text/plain": [
       "(26,)"
      ]
     },
     "execution_count": 50,
     "metadata": {},
     "output_type": "execute_result"
    }
   ],
   "source": [
    "df['Superior Agency'].unique().shape"
   ]
  },
  {
   "cell_type": "code",
   "execution_count": 49,
   "metadata": {},
   "outputs": [
    {
     "data": {
      "text/plain": [
       "(288,)"
      ]
     },
     "execution_count": 49,
     "metadata": {},
     "output_type": "execute_result"
    }
   ],
   "source": [
    "df['Agency'].unique().shape"
   ]
  },
  {
   "cell_type": "code",
   "execution_count": 48,
   "metadata": {},
   "outputs": [
    {
     "data": {
      "text/plain": [
       "(357,)"
      ]
     },
     "execution_count": 48,
     "metadata": {},
     "output_type": "execute_result"
    }
   ],
   "source": [
    "df['Managing Unit Code'].unique().shape"
   ]
  },
  {
   "cell_type": "markdown",
   "metadata": {},
   "source": [
    "Phase 3: Exploratory Data Analysis (EDA)  \n",
    "\n",
    "\n",
    "Temporal Analysis:\n",
    "\n",
    "- Evaluate trends over time, such as how actual revenues change from month to month or year to year.\n",
    "\n",
    "Identification of Discrepancies:\n",
    "\n",
    "- Investigate the categories with the largest differences between projected and actual revenues, identifying patterns of underperformance or overperformance."
   ]
  }
 ],
 "metadata": {
  "kernelspec": {
   "display_name": "test",
   "language": "python",
   "name": "python3"
  },
  "language_info": {
   "codemirror_mode": {
    "name": "ipython",
    "version": 3
   },
   "file_extension": ".py",
   "mimetype": "text/x-python",
   "name": "python",
   "nbconvert_exporter": "python",
   "pygments_lexer": "ipython3",
   "version": "3.12.4"
  }
 },
 "nbformat": 4,
 "nbformat_minor": 2
}
