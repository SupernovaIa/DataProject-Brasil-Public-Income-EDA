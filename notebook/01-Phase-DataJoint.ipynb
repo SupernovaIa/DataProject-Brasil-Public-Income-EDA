{
 "cells": [
  {
   "cell_type": "markdown",
   "metadata": {},
   "source": [
    "## Importing libraries\n",
    "\n",
    "---"
   ]
  },
  {
   "cell_type": "code",
   "execution_count": 1,
   "metadata": {},
   "outputs": [],
   "source": [
    "# Importing libraries\n",
    "\n",
    "# Data treatment\n",
    "# -----------------------------------------------------------------------\n",
    "import pandas as pd\n",
    "import numpy as np\n",
    "\n",
    "# Path\n",
    "import sys\n",
    "sys.path.append('../')\n",
    "\n",
    "# Config\n",
    "# -----------------------------------------------------------------------\n",
    "pd.set_option('display.max_columns', None) # para poder visualizar todas las columnas de los DataFrames\n",
    "\n",
    "from src.support import check_columns"
   ]
  },
  {
   "cell_type": "markdown",
   "metadata": {},
   "source": [
    "## Loading data\n",
    "\n",
    "---"
   ]
  },
  {
   "cell_type": "code",
   "execution_count": 2,
   "metadata": {},
   "outputs": [],
   "source": [
    "# Build a list of paths, read them and store dataframes in otrher list\n",
    "years = [i for i in range(2013, 2022)]\n",
    "paths = [f\"../data/raw/datos-{year}.csv\" for year in years]\n",
    "data = []\n",
    "\n",
    "for path in paths:\n",
    "    data.append(pd.read_csv(path, sep = ';'))"
   ]
  },
  {
   "cell_type": "markdown",
   "metadata": {},
   "source": [
    "### Inspecting datasets"
   ]
  },
  {
   "cell_type": "code",
   "execution_count": 10,
   "metadata": {},
   "outputs": [
    {
     "data": {
      "text/plain": [
       "True"
      ]
     },
     "execution_count": 10,
     "metadata": {},
     "output_type": "execute_result"
    }
   ],
   "source": [
    "# We check all columns are the same for all dataframes\n",
    "check_columns(data)"
   ]
  },
  {
   "cell_type": "markdown",
   "metadata": {},
   "source": [
    "Renaming columns to understandable English"
   ]
  },
  {
   "cell_type": "code",
   "execution_count": 12,
   "metadata": {},
   "outputs": [
    {
     "data": {
      "text/plain": [
       "[None, None, None, None, None, None, None, None, None]"
      ]
     },
     "execution_count": 12,
     "metadata": {},
     "output_type": "execute_result"
    }
   ],
   "source": [
    "# Name dictionary\n",
    "new_columns = {\n",
    "    'CÓDIGO ÓRGÃO SUPERIOR': 'Superior Agency Code',\n",
    "    'NOME ÓRGÃO SUPERIOR': 'Superior Agency Name',\n",
    "    'CÓDIGO ÓRGÃO': 'Agency Code',\n",
    "    'NOME ÓRGÃO': 'Agency Name',\n",
    "    'CÓDIGO UNIDADE GESTORA': 'Managing Unit Code',\n",
    "    'NOME UNIDADE GESTORA': 'Managing Unit Name',\n",
    "    'CATEGORIA ECONÔMICA': 'Economic Category',\n",
    "    'ORIGEM RECEITA': 'Revenue Source',\n",
    "    'ESPÉCIE RECEITA': 'Revenue Type',\n",
    "    'DETALHAMENTO': 'Detailing',\n",
    "    'VALOR PREVISTO ATUALIZADO': 'Updated Budgeted Amount',\n",
    "    'VALOR LANÇADO': 'Posted Amount',\n",
    "    'VALOR REALIZADO': 'Actual Amount',\n",
    "    'PERCENTUAL REALIZADO': 'Realization Percentage',\n",
    "    'DATA LANÇAMENTO': 'Posting Date',\n",
    "    'ANO EXERCÍCIO': 'Fiscal Year'\n",
    "}\n",
    "\n",
    "# Dataframe renaming\n",
    "[df.rename(columns= new_columns, inplace=True) for df in data]\n",
    "\n",
    "# Check new column names for all dataframes\n",
    "#print([df.columns for df in data])"
   ]
  },
  {
   "cell_type": "markdown",
   "metadata": {},
   "source": [
    "We can concatenate the datasets since they share the same structure.\n",
    "\n",
    "Before concatenating datasets we check dates both in `Fiscal Year` and `Posting Date`."
   ]
  },
  {
   "cell_type": "markdown",
   "metadata": {},
   "source": [
    "+ `Fiscal Year`"
   ]
  },
  {
   "cell_type": "code",
   "execution_count": 13,
   "metadata": {},
   "outputs": [
    {
     "name": "stdout",
     "output_type": "stream",
     "text": [
      "[  nan 2013.]\n",
      "[2014.   nan]\n",
      "[2015.   nan]\n",
      "[2016.   nan]\n",
      "[2017.   nan]\n",
      "[  nan 2018.]\n",
      "[2019.   nan]\n",
      "[2020.   nan]\n",
      "[2021.   nan]\n"
     ]
    }
   ],
   "source": [
    "# Checking Fiscal Year\n",
    "for df in data:\n",
    "    print(df['Fiscal Year'].unique())"
   ]
  },
  {
   "cell_type": "markdown",
   "metadata": {},
   "source": [
    "+ `Posting Date`"
   ]
  },
  {
   "cell_type": "code",
   "execution_count": 14,
   "metadata": {},
   "outputs": [
    {
     "name": "stdout",
     "output_type": "stream",
     "text": [
      "['2013' nan]\n",
      "['2014' nan]\n",
      "['2015' nan]\n",
      "['2016' nan]\n",
      "['2017' nan]\n",
      "['2018' nan]\n",
      "['2019' nan]\n",
      "['2020' nan]\n",
      "['2021' nan]\n"
     ]
    }
   ],
   "source": [
    "# Checking Posting Date\n",
    "# Since date format is DD/MM/YYYY we can extract it using a regex pattern \n",
    "pattern = r'/(\\d{4})'\n",
    "\n",
    "for df in data:\n",
    "    print(df['Posting Date'].str.extract(pattern)[0].unique())"
   ]
  },
  {
   "cell_type": "markdown",
   "metadata": {},
   "source": [
    "We can check number of missing year data"
   ]
  },
  {
   "cell_type": "code",
   "execution_count": 16,
   "metadata": {},
   "outputs": [
    {
     "name": "stdout",
     "output_type": "stream",
     "text": [
      "Missing 31 out of 4498\n",
      "Missing 42 out of 4553\n",
      "Missing 31 out of 4523\n",
      "Missing 11 out of 194533\n",
      "Missing 41 out of 190479\n",
      "Missing 29 out of 173944\n",
      "Missing 14 out of 176828\n",
      "Missing 21 out of 142348\n",
      "Missing 37 out of 134593\n"
     ]
    }
   ],
   "source": [
    "for df in data:\n",
    "    print(f'Missing {df[df['Posting Date'].isna() & data[0]['Fiscal Year'].isna()].shape[0]} out of {df.shape[0]}')"
   ]
  },
  {
   "cell_type": "markdown",
   "metadata": {},
   "source": [
    "We see that we have some NaN values, but not mixed data from years so we will assume that NaN can be replaced by the year"
   ]
  },
  {
   "cell_type": "code",
   "execution_count": 17,
   "metadata": {},
   "outputs": [],
   "source": [
    "i = 0\n",
    "\n",
    "for df in data:\n",
    "\n",
    "    df['Fiscal Year'] = years[i]\n",
    "    i += 1"
   ]
  },
  {
   "cell_type": "markdown",
   "metadata": {},
   "source": [
    "## Concatenate dataframes\n",
    "\n",
    "---"
   ]
  },
  {
   "cell_type": "markdown",
   "metadata": {},
   "source": [
    "We can concatenate the list of dataframes to stack them in a single one"
   ]
  },
  {
   "cell_type": "code",
   "execution_count": 18,
   "metadata": {},
   "outputs": [
    {
     "data": {
      "text/html": [
       "<div>\n",
       "<style scoped>\n",
       "    .dataframe tbody tr th:only-of-type {\n",
       "        vertical-align: middle;\n",
       "    }\n",
       "\n",
       "    .dataframe tbody tr th {\n",
       "        vertical-align: top;\n",
       "    }\n",
       "\n",
       "    .dataframe thead th {\n",
       "        text-align: right;\n",
       "    }\n",
       "</style>\n",
       "<table border=\"1\" class=\"dataframe\">\n",
       "  <thead>\n",
       "    <tr style=\"text-align: right;\">\n",
       "      <th></th>\n",
       "      <th>Superior Agency Code</th>\n",
       "      <th>Superior Agency Name</th>\n",
       "      <th>Agency Code</th>\n",
       "      <th>Agency Name</th>\n",
       "      <th>Managing Unit Code</th>\n",
       "      <th>Managing Unit Name</th>\n",
       "      <th>Economic Category</th>\n",
       "      <th>Revenue Source</th>\n",
       "      <th>Revenue Type</th>\n",
       "      <th>Detailing</th>\n",
       "      <th>Updated Budgeted Amount</th>\n",
       "      <th>Posted Amount</th>\n",
       "      <th>Actual Amount</th>\n",
       "      <th>Realization Percentage</th>\n",
       "      <th>Posting Date</th>\n",
       "      <th>Fiscal Year</th>\n",
       "    </tr>\n",
       "  </thead>\n",
       "  <tbody>\n",
       "    <tr>\n",
       "      <th>1002950</th>\n",
       "      <td>36000.0</td>\n",
       "      <td>Ministério da Saúde</td>\n",
       "      <td>36201.0</td>\n",
       "      <td>Fundação Oswaldo Cruz</td>\n",
       "      <td>254420.0</td>\n",
       "      <td>FUNDACAO OSWALDO CRUZ</td>\n",
       "      <td>Receitas Correntes</td>\n",
       "      <td>Receita de Serviços</td>\n",
       "      <td>Serviços Administrativos e Comerciais Gerais</td>\n",
       "      <td>SERV.ADMINISTRAT.E COMERCIAIS GERAIS-PRINC.</td>\n",
       "      <td>0,00</td>\n",
       "      <td>0,00</td>\n",
       "      <td>6069,50</td>\n",
       "      <td>0,00</td>\n",
       "      <td>04/03/2021</td>\n",
       "      <td>2021</td>\n",
       "    </tr>\n",
       "  </tbody>\n",
       "</table>\n",
       "</div>"
      ],
      "text/plain": [
       "         Superior Agency Code Superior Agency Name  Agency Code  \\\n",
       "1002950               36000.0  Ministério da Saúde      36201.0   \n",
       "\n",
       "                   Agency Name  Managing Unit Code     Managing Unit Name  \\\n",
       "1002950  Fundação Oswaldo Cruz            254420.0  FUNDACAO OSWALDO CRUZ   \n",
       "\n",
       "          Economic Category       Revenue Source  \\\n",
       "1002950  Receitas Correntes  Receita de Serviços   \n",
       "\n",
       "                                         Revenue Type  \\\n",
       "1002950  Serviços Administrativos e Comerciais Gerais   \n",
       "\n",
       "                                           Detailing Updated Budgeted Amount  \\\n",
       "1002950  SERV.ADMINISTRAT.E COMERCIAIS GERAIS-PRINC.                    0,00   \n",
       "\n",
       "        Posted Amount Actual Amount Realization Percentage Posting Date  \\\n",
       "1002950          0,00       6069,50                   0,00   04/03/2021   \n",
       "\n",
       "         Fiscal Year  \n",
       "1002950         2021  "
      ]
     },
     "execution_count": 18,
     "metadata": {},
     "output_type": "execute_result"
    }
   ],
   "source": [
    "# We use pd.concat() since we have the same columns\n",
    "df_full = pd.concat(data, ignore_index = True)\n",
    "df_full.sample()"
   ]
  },
  {
   "cell_type": "code",
   "execution_count": 19,
   "metadata": {},
   "outputs": [
    {
     "data": {
      "text/plain": [
       "(1026299, 16)"
      ]
     },
     "execution_count": 19,
     "metadata": {},
     "output_type": "execute_result"
    }
   ],
   "source": [
    "df_full.shape"
   ]
  },
  {
   "cell_type": "markdown",
   "metadata": {},
   "source": [
    "We see that we have 1026299 entries over the 2013-2021 period.\n",
    "\n",
    "Now we can seva the dataframe"
   ]
  },
  {
   "cell_type": "code",
   "execution_count": 20,
   "metadata": {},
   "outputs": [],
   "source": [
    "# Now we save the dataframe\n",
    "df_full.to_csv(\"../data/output/data_full.csv\", index = False)"
   ]
  }
 ],
 "metadata": {
  "kernelspec": {
   "display_name": "test",
   "language": "python",
   "name": "python3"
  },
  "language_info": {
   "codemirror_mode": {
    "name": "ipython",
    "version": 3
   },
   "file_extension": ".py",
   "mimetype": "text/x-python",
   "name": "python",
   "nbconvert_exporter": "python",
   "pygments_lexer": "ipython3",
   "version": "3.12.4"
  }
 },
 "nbformat": 4,
 "nbformat_minor": 2
}
