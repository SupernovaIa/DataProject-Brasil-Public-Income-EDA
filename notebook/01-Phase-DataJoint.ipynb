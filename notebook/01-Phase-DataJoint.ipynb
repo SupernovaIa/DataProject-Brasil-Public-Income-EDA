{
 "cells": [
  {
   "cell_type": "markdown",
   "metadata": {},
   "source": [
    "### Importing libraries"
   ]
  },
  {
   "cell_type": "code",
   "execution_count": 29,
   "metadata": {},
   "outputs": [],
   "source": [
    "# Importing libraries\n",
    "\n",
    "# Data treatment\n",
    "# -----------------------------------------------------------------------\n",
    "import pandas as pd\n",
    "import numpy as np\n",
    "\n",
    "# Path\n",
    "import sys\n",
    "sys.path.append('../')\n",
    "\n",
    "# Config\n",
    "# -----------------------------------------------------------------------\n",
    "pd.set_option('display.max_columns', None) # para poder visualizar todas las columnas de los DataFrames"
   ]
  },
  {
   "cell_type": "markdown",
   "metadata": {},
   "source": [
    "### Loading data"
   ]
  },
  {
   "cell_type": "code",
   "execution_count": 30,
   "metadata": {},
   "outputs": [],
   "source": [
    "# Build a list of paths, read them and store dataframes in otrher list\n",
    "years = [i for i in range(2013, 2022)]\n",
    "paths = [f\"../data/raw/datos-{year}.csv\" for year in years]\n",
    "data = []\n",
    "\n",
    "for path in paths:\n",
    "    data.append(pd.read_csv(path, sep = ';'))"
   ]
  },
  {
   "cell_type": "markdown",
   "metadata": {},
   "source": [
    "### Inspecting datasets"
   ]
  },
  {
   "cell_type": "code",
   "execution_count": null,
   "metadata": {},
   "outputs": [],
   "source": [
    "# We check all columns are the same for all dataframes\n",
    "\n",
    "cols = data[0].columns\n",
    "print(cols)\n",
    "\n",
    "for df in data:\n",
    "    print(all(df.columns == cols))"
   ]
  },
  {
   "cell_type": "markdown",
   "metadata": {},
   "source": [
    "Renaming columns to understandable English"
   ]
  },
  {
   "cell_type": "code",
   "execution_count": null,
   "metadata": {},
   "outputs": [],
   "source": [
    "# Name dictionary\n",
    "new_columns = {\n",
    "    'CÓDIGO ÓRGÃO SUPERIOR': 'Superior Agency Code',\n",
    "    'NOME ÓRGÃO SUPERIOR': 'Superior Agency Name',\n",
    "    'CÓDIGO ÓRGÃO': 'Agency Code',\n",
    "    'NOME ÓRGÃO': 'Agency Name',\n",
    "    'CÓDIGO UNIDADE GESTORA': 'Managing Unit Code',\n",
    "    'NOME UNIDADE GESTORA': 'Managing Unit Name',\n",
    "    'CATEGORIA ECONÔMICA': 'Economic Category',\n",
    "    'ORIGEM RECEITA': 'Revenue Source',\n",
    "    'ESPÉCIE RECEITA': 'Revenue Type',\n",
    "    'DETALHAMENTO': 'Detailing',\n",
    "    'VALOR PREVISTO ATUALIZADO': 'Updated Budgeted Amount',\n",
    "    'VALOR LANÇADO': 'Posted Amount',\n",
    "    'VALOR REALIZADO': 'Actual Amount',\n",
    "    'PERCENTUAL REALIZADO': 'Realization Percentage',\n",
    "    'DATA LANÇAMENTO': 'Posting Date',\n",
    "    'ANO EXERCÍCIO': 'Fiscal Year'\n",
    "}\n",
    "\n",
    "# Dataframe renaming\n",
    "[df.rename(columns= new_columns, inplace=True) for df in data]\n",
    "\n",
    "# Check new column names for all dataframes\n",
    "#print([df.columns for df in data])"
   ]
  },
  {
   "cell_type": "markdown",
   "metadata": {},
   "source": [
    "### Year inspection"
   ]
  },
  {
   "cell_type": "markdown",
   "metadata": {},
   "source": [
    "We can concatenate the datasets since they share the same structure"
   ]
  },
  {
   "cell_type": "markdown",
   "metadata": {},
   "source": [
    "Before concatenating datasets we check dates both in Fiscal Year and Posting Date"
   ]
  },
  {
   "cell_type": "code",
   "execution_count": null,
   "metadata": {},
   "outputs": [],
   "source": [
    "# Checking Fiscal Year\n",
    "for df in data:\n",
    "    print(df['Fiscal Year'].unique())"
   ]
  },
  {
   "cell_type": "code",
   "execution_count": null,
   "metadata": {},
   "outputs": [],
   "source": [
    "# Checking Posting Date\n",
    "\n",
    "# Since date format is DD/MM/YYYY we can extract it using a regex pattern \n",
    "pattern = r'/(\\d{4})'\n",
    "\n",
    "for df in data:\n",
    "    print(df['Posting Date'].str.extract(pattern)[0].unique())"
   ]
  },
  {
   "cell_type": "code",
   "execution_count": null,
   "metadata": {},
   "outputs": [],
   "source": [
    "# We can check number of missing year data\n",
    "for df in data:\n",
    "    print(f'Missing {df[df['Posting Date'].isna() & data[0]['Fiscal Year'].isna()].shape[0]} out of {df.shape[0]}')"
   ]
  },
  {
   "cell_type": "markdown",
   "metadata": {},
   "source": [
    "We see that we have some NaN values, but not mixed data from years so we will assume that NaN can be replaced by the year"
   ]
  },
  {
   "cell_type": "code",
   "execution_count": 36,
   "metadata": {},
   "outputs": [],
   "source": [
    "i = 0\n",
    "\n",
    "for df in data:\n",
    "\n",
    "    df['Fiscal Year'] = years[i]\n",
    "    i += 1"
   ]
  },
  {
   "cell_type": "markdown",
   "metadata": {},
   "source": [
    "### Currency inspection"
   ]
  },
  {
   "cell_type": "code",
   "execution_count": 37,
   "metadata": {},
   "outputs": [],
   "source": [
    "# To do"
   ]
  },
  {
   "cell_type": "markdown",
   "metadata": {},
   "source": [
    "### Join the dataframes"
   ]
  },
  {
   "cell_type": "markdown",
   "metadata": {},
   "source": [
    "We can concatenate the list of dataframes to stack them"
   ]
  },
  {
   "cell_type": "code",
   "execution_count": null,
   "metadata": {},
   "outputs": [],
   "source": [
    "# We use pd.concat() since we have the same columns\n",
    "\n",
    "df_full = pd.concat(data, ignore_index = True)\n",
    "df_full.sample()"
   ]
  },
  {
   "cell_type": "code",
   "execution_count": null,
   "metadata": {},
   "outputs": [],
   "source": [
    "df_full.shape"
   ]
  },
  {
   "cell_type": "markdown",
   "metadata": {},
   "source": [
    "We see that we have 1026299 entries over the 2013-2021 period"
   ]
  },
  {
   "cell_type": "code",
   "execution_count": 40,
   "metadata": {},
   "outputs": [],
   "source": [
    "# Now we save the dataframe\n",
    "df_full.to_csv(\"../data/output/data_full.csv\", index = False)"
   ]
  }
 ],
 "metadata": {
  "kernelspec": {
   "display_name": "test",
   "language": "python",
   "name": "python3"
  },
  "language_info": {
   "codemirror_mode": {
    "name": "ipython",
    "version": 3
   },
   "file_extension": ".py",
   "mimetype": "text/x-python",
   "name": "python",
   "nbconvert_exporter": "python",
   "pygments_lexer": "ipython3",
   "version": "3.12.4"
  }
 },
 "nbformat": 4,
 "nbformat_minor": 2
}
